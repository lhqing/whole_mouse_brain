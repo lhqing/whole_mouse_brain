{
 "cells": [
  {
   "cell_type": "code",
   "execution_count": 1,
   "id": "1b082f0a",
   "metadata": {
    "ExecuteTime": {
     "end_time": "2022-06-28T03:45:54.589891Z",
     "start_time": "2022-06-28T03:45:47.264494Z"
    },
    "papermill": {
     "duration": 6.043634,
     "end_time": "2022-06-21T06:14:59.881329",
     "exception": false,
     "start_time": "2022-06-21T06:14:53.837695",
     "status": "completed"
    },
    "pycharm": {
     "name": "#%%\n"
    },
    "tags": []
   },
   "outputs": [],
   "source": [
    "from ALLCools.clustering import *\n",
    "from wmb import brain, cemba, aibs\n",
    "import numpy as np\n",
    "import pandas as pd\n",
    "import anndata\n",
    "\n",
    "import matplotlib.pyplot as plt\n",
    "from ALLCools.plot import *\n",
    "\n",
    "from ALLCools.integration.seurat_class import SeuratIntegration"
   ]
  },
  {
   "cell_type": "code",
   "execution_count": 2,
   "id": "c85e97da",
   "metadata": {
    "ExecuteTime": {
     "end_time": "2022-06-28T03:45:54.607018Z",
     "start_time": "2022-06-28T03:45:54.605043Z"
    },
    "papermill": {
     "duration": 0.020772,
     "end_time": "2022-06-21T06:14:59.917770",
     "exception": false,
     "start_time": "2022-06-21T06:14:59.896998",
     "status": "completed"
    },
    "tags": [
     "parameters"
    ]
   },
   "outputs": [],
   "source": [
    "dataset = 'AIBS_SMART'\n",
    "categorical_key = ['L1_annot',  'DissectionRegion']"
   ]
  },
  {
   "cell_type": "markdown",
   "id": "cb21fd77",
   "metadata": {
    "papermill": {
     "duration": 0.014926,
     "end_time": "2022-06-21T06:14:59.947672",
     "exception": false,
     "start_time": "2022-06-21T06:14:59.932746",
     "status": "completed"
    },
    "pycharm": {
     "name": "#%% md\n"
    },
    "tags": []
   },
   "source": [
    "## Input LSI before integration"
   ]
  },
  {
   "cell_type": "code",
   "execution_count": 3,
   "id": "1a23191e",
   "metadata": {
    "ExecuteTime": {
     "end_time": "2022-06-28T03:45:55.726143Z",
     "start_time": "2022-06-28T03:45:55.444985Z"
    },
    "papermill": {
     "duration": 4.377696,
     "end_time": "2022-06-21T06:15:04.341633",
     "exception": false,
     "start_time": "2022-06-21T06:14:59.963937",
     "status": "completed"
    },
    "pycharm": {
     "name": "#%%\n"
    },
    "tags": []
   },
   "outputs": [],
   "source": [
    "ref_adata = anndata.read_h5ad('./adata/rna_pca.h5ad')\n",
    "query_adata = anndata.read_h5ad('./adata/merfish_pca.h5ad')"
   ]
  },
  {
   "cell_type": "code",
   "execution_count": 4,
   "id": "e4824c10",
   "metadata": {
    "ExecuteTime": {
     "end_time": "2022-06-28T03:45:55.944589Z",
     "start_time": "2022-06-28T03:45:55.941371Z"
    },
    "papermill": {
     "duration": 0.021338,
     "end_time": "2022-06-21T06:15:04.378957",
     "exception": false,
     "start_time": "2022-06-21T06:15:04.357619",
     "status": "completed"
    },
    "pycharm": {
     "name": "#%%\n"
    },
    "tags": []
   },
   "outputs": [],
   "source": [
    "adata_list = [ref_adata, query_adata]"
   ]
  },
  {
   "cell_type": "markdown",
   "id": "f5323f5a",
   "metadata": {
    "papermill": {
     "duration": 0.015015,
     "end_time": "2022-06-21T06:15:04.409291",
     "exception": false,
     "start_time": "2022-06-21T06:15:04.394276",
     "status": "completed"
    },
    "pycharm": {
     "name": "#%% md\n"
    },
    "tags": []
   },
   "source": [
    "### Init empty adata_merge"
   ]
  },
  {
   "cell_type": "code",
   "execution_count": 5,
   "id": "2932b576",
   "metadata": {
    "ExecuteTime": {
     "end_time": "2022-06-28T03:45:56.464228Z",
     "start_time": "2022-06-28T03:45:56.456509Z"
    },
    "papermill": {
     "duration": 0.121227,
     "end_time": "2022-06-21T06:15:04.545828",
     "exception": false,
     "start_time": "2022-06-21T06:15:04.424601",
     "status": "completed"
    },
    "pycharm": {
     "name": "#%%\n"
    },
    "tags": []
   },
   "outputs": [
    {
     "name": "stderr",
     "output_type": "stream",
     "text": [
      "/opt/conda/lib/python3.7/site-packages/ipykernel_launcher.py:9: FutureWarning: X.dtype being converted to np.float32 from float64. In the next version of anndata (0.9) conversion will not be automatic. Pass dtype explicitly to avoid this warning. Pass `AnnData(X, dtype=X.dtype, ...)` to get the future behavour.\n",
      "  if __name__ == \"__main__\":\n"
     ]
    }
   ],
   "source": [
    "from scipy.sparse import csr_matrix\n",
    "\n",
    "cells = sum([a.shape[0] for a in adata_list])\n",
    "features = adata_list[0].shape[1]\n",
    "\n",
    "adata_merge = anndata.AnnData(X=csr_matrix(([], ([], [])),\n",
    "                                           shape=(cells, features)),\n",
    "                              obs=pd.concat([a.obs for a in adata_list]),\n",
    "                              var=adata_list[0].var)"
   ]
  },
  {
   "cell_type": "code",
   "execution_count": 6,
   "id": "6da6193a",
   "metadata": {
    "ExecuteTime": {
     "end_time": "2022-06-28T03:46:38.088971Z",
     "start_time": "2022-06-28T03:46:32.677992Z"
    },
    "papermill": {
     "duration": 1.338052,
     "end_time": "2022-06-21T06:15:05.900384",
     "exception": false,
     "start_time": "2022-06-21T06:15:04.562332",
     "status": "completed"
    },
    "tags": []
   },
   "outputs": [],
   "source": [
    "if dataset == 'AIBS_SMART':\n",
    "    rna_annot = aibs.get_smart_annot()\n",
    "elif dataset == 'AIBS_TENX':\n",
    "    rna_annot = aibs.get_tenx_annot()\n",
    "else:\n",
    "    rna_annot = broad.get_tenx_annot()\n"
   ]
  },
  {
   "cell_type": "code",
   "execution_count": 7,
   "id": "3f3d713e",
   "metadata": {
    "ExecuteTime": {
     "end_time": "2022-06-28T03:46:38.469718Z",
     "start_time": "2022-06-28T03:46:38.092222Z"
    },
    "papermill": {
     "duration": 3.431996,
     "end_time": "2022-06-21T06:15:09.349222",
     "exception": false,
     "start_time": "2022-06-21T06:15:05.917226",
     "status": "completed"
    },
    "pycharm": {
     "name": "#%%\n"
    },
    "tags": []
   },
   "outputs": [],
   "source": [
    "for key in categorical_key:\n",
    "    adata_merge.obs[key] =rna_annot[key].to_pandas()\n",
    "    "
   ]
  },
  {
   "cell_type": "code",
   "execution_count": 8,
   "id": "befc8a0e",
   "metadata": {
    "ExecuteTime": {
     "end_time": "2022-06-28T03:46:38.481580Z",
     "start_time": "2022-06-28T03:46:38.471930Z"
    },
    "papermill": {
     "duration": 0.156752,
     "end_time": "2022-06-21T06:15:09.522444",
     "exception": false,
     "start_time": "2022-06-21T06:15:09.365692",
     "status": "completed"
    },
    "pycharm": {
     "name": "#%%\n"
    },
    "tags": []
   },
   "outputs": [],
   "source": [
    "for adata in adata_list:\n",
    "    for key in categorical_key:\n",
    "        adata.obs[key] = adata_merge.obs[key]"
   ]
  },
  {
   "cell_type": "code",
   "execution_count": 9,
   "id": "de7fa0fd",
   "metadata": {
    "ExecuteTime": {
     "end_time": "2022-06-28T03:46:40.487914Z",
     "start_time": "2022-06-28T03:46:40.482217Z"
    },
    "papermill": {
     "duration": 0.023114,
     "end_time": "2022-06-21T06:15:09.728600",
     "exception": false,
     "start_time": "2022-06-21T06:15:09.705486",
     "status": "completed"
    },
    "tags": []
   },
   "outputs": [
    {
     "data": {
      "text/plain": [
       "[AnnData object with n_obs × n_vars = 100000 × 483\n",
       "     obs: 'count', 'read_count', 'n_counts', 'leiden', 'Modality', 'L1_annot', 'DissectionRegion'\n",
       "     var: 'mean-RNA', 'std-RNA'\n",
       "     obsm: 'X_pca',\n",
       " AnnData object with n_obs × n_vars = 66356 × 483\n",
       "     obs: 'count', 'read_count', 'n_counts', 'leiden', 'Modality', 'L1_annot', 'DissectionRegion'\n",
       "     var: 'mean-RNA', 'std-RNA'\n",
       "     obsm: 'X_pca']"
      ]
     },
     "execution_count": 9,
     "metadata": {},
     "output_type": "execute_result"
    }
   ],
   "source": [
    "adata_list"
   ]
  },
  {
   "cell_type": "code",
   "execution_count": 10,
   "id": "552b67a0",
   "metadata": {
    "ExecuteTime": {
     "end_time": "2022-06-28T03:46:57.824362Z",
     "start_time": "2022-06-28T03:46:57.820936Z"
    },
    "papermill": {
     "duration": 0.021428,
     "end_time": "2022-06-21T06:15:09.766566",
     "exception": false,
     "start_time": "2022-06-21T06:15:09.745138",
     "status": "completed"
    },
    "tags": []
   },
   "outputs": [
    {
     "data": {
      "text/plain": [
       "AnnData object with n_obs × n_vars = 166356 × 483\n",
       "    obs: 'count', 'read_count', 'n_counts', 'leiden', 'Modality', 'L1_annot', 'DissectionRegion'\n",
       "    var: 'mean-RNA', 'std-RNA'"
      ]
     },
     "execution_count": 10,
     "metadata": {},
     "output_type": "execute_result"
    }
   ],
   "source": [
    "adata_merge"
   ]
  },
  {
   "cell_type": "markdown",
   "id": "fe3a3a9d",
   "metadata": {
    "papermill": {
     "duration": 0.016833,
     "end_time": "2022-06-21T06:15:09.799900",
     "exception": false,
     "start_time": "2022-06-21T06:15:09.783067",
     "status": "completed"
    },
    "pycharm": {
     "name": "#%% md\n"
    },
    "tags": []
   },
   "source": [
    "## Integration and transform"
   ]
  },
  {
   "cell_type": "code",
   "execution_count": 11,
   "id": "ebdcaeac",
   "metadata": {
    "ExecuteTime": {
     "end_time": "2022-06-26T06:08:13.548054Z",
     "start_time": "2022-06-26T06:08:13.546257Z"
    },
    "papermill": {
     "duration": 0.020735,
     "end_time": "2022-06-21T06:15:09.836850",
     "exception": false,
     "start_time": "2022-06-21T06:15:09.816115",
     "status": "completed"
    },
    "pycharm": {
     "name": "#%%\n"
    },
    "tags": []
   },
   "outputs": [],
   "source": [
    "integrator = SeuratIntegration()"
   ]
  },
  {
   "cell_type": "code",
   "execution_count": 12,
   "id": "8a45a35b",
   "metadata": {
    "ExecuteTime": {
     "end_time": "2022-06-26T06:08:45.314671Z",
     "start_time": "2022-06-26T06:08:13.549744Z"
    },
    "papermill": {
     "duration": 10833.648139,
     "end_time": "2022-06-21T09:15:43.501597",
     "exception": false,
     "start_time": "2022-06-21T06:15:09.853458",
     "status": "completed"
    },
    "pycharm": {
     "name": "#%%\n"
    },
    "tags": []
   },
   "outputs": [
    {
     "name": "stdout",
     "output_type": "stream",
     "text": [
      "Find anchors across datasets.\n",
      "Run CCA\n",
      "non zero dims 50\n",
      "Find Anchors\n",
      "Score Anchors\n",
      "Identified 85962 anchors between datasets 0 and 1.\n"
     ]
    }
   ],
   "source": [
    "anchor = integrator.find_anchor(adata_list,\n",
    "                                k_local=None,\n",
    "                                key_local='X_pca',\n",
    "                                k_anchor=5,\n",
    "                                key_anchor='X',\n",
    "                                dim_red='cca',\n",
    "                                max_cc_cells=100000,\n",
    "                                k_score=30,\n",
    "                                k_filter=None,\n",
    "                                scale1=False,\n",
    "                                scale2=False,\n",
    "                                n_components=50,\n",
    "                                n_features=200,\n",
    "                                alignments=[[[0], [1]]])"
   ]
  },
  {
   "cell_type": "code",
   "execution_count": 13,
   "id": "9f56e4e0",
   "metadata": {
    "ExecuteTime": {
     "end_time": "2022-06-26T06:08:53.260292Z",
     "start_time": "2022-06-26T06:08:45.316850Z"
    },
    "papermill": {
     "duration": 122.174558,
     "end_time": "2022-06-21T09:17:45.693138",
     "exception": false,
     "start_time": "2022-06-21T09:15:43.518580",
     "status": "completed"
    },
    "pycharm": {
     "name": "#%%\n"
    },
    "tags": []
   },
   "outputs": [
    {
     "name": "stdout",
     "output_type": "stream",
     "text": [
      "Merge datasets\n",
      "[[0], [1]]\n",
      "Initialize\n",
      "Find nearest anchors\n"
     ]
    },
    {
     "name": "stderr",
     "output_type": "stream",
     "text": [
      "/opt/conda/lib/python3.7/site-packages/ALLCools/integration/seurat_class.py:765: VisibleDeprecationWarning: Creating an ndarray from ragged nested sequences (which is a list-or-tuple of lists-or-tuples-or ndarrays with different lengths or shapes) is deprecated. If you meant to do this, you must specify 'dtype=object' when creating the ndarray\n",
      "  data=np.array(corrected),\n"
     ]
    },
    {
     "name": "stdout",
     "output_type": "stream",
     "text": [
      "Normalize graph\n",
      "Transform data\n"
     ]
    }
   ],
   "source": [
    "corrected = integrator.integrate(key_correct='X_pca',\n",
    "                                 row_normalize=True,\n",
    "                                 n_components=30,\n",
    "                                 k_weight=100,\n",
    "                                 sd=1,\n",
    "                                 alignments=[[[0], [1]]])\n",
    "\n",
    "adata_merge.obsm['X_pca_integrate'] = np.concatenate(corrected)"
   ]
  },
  {
   "cell_type": "markdown",
   "id": "1b0ab55c",
   "metadata": {
    "papermill": {
     "duration": 0.017479,
     "end_time": "2022-06-21T09:17:45.728503",
     "exception": false,
     "start_time": "2022-06-21T09:17:45.711024",
     "status": "completed"
    },
    "pycharm": {
     "name": "#%% md\n"
    },
    "tags": []
   },
   "source": [
    "## Label transfer"
   ]
  },
  {
   "cell_type": "code",
   "execution_count": 14,
   "id": "84a8a08a-86dd-4528-9225-2ed7fd495ee0",
   "metadata": {},
   "outputs": [
    {
     "data": {
      "text/plain": [
       "AnnData object with n_obs × n_vars = 166356 × 483\n",
       "    obs: 'count', 'read_count', 'n_counts', 'leiden', 'Modality', 'L1_annot', 'DissectionRegion'\n",
       "    var: 'mean-RNA', 'std-RNA'\n",
       "    obsm: 'X_pca_integrate'"
      ]
     },
     "execution_count": 14,
     "metadata": {},
     "output_type": "execute_result"
    }
   ],
   "source": [
    "adata_merge"
   ]
  },
  {
   "cell_type": "code",
   "execution_count": 15,
   "id": "7eb06547",
   "metadata": {
    "ExecuteTime": {
     "end_time": "2022-06-26T06:09:06.134216Z",
     "start_time": "2022-06-26T06:08:53.268361Z"
    },
    "papermill": {
     "duration": 217.963724,
     "end_time": "2022-06-21T09:21:23.710398",
     "exception": false,
     "start_time": "2022-06-21T09:17:45.746674",
     "status": "completed"
    },
    "pycharm": {
     "name": "#%%\n"
    },
    "tags": []
   },
   "outputs": [
    {
     "name": "stdout",
     "output_type": "stream",
     "text": [
      "Initialize\n",
      "Find nearest anchors\n",
      "Normalize graph\n",
      "Label transfer\n"
     ]
    }
   ],
   "source": [
    "transfer_results = integrator.label_transfer(\n",
    "    ref=[0],\n",
    "    qry=[1],\n",
    "    categorical_key=categorical_key,\n",
    "    key_dist='X_pca'\n",
    ")"
   ]
  },
  {
   "cell_type": "code",
   "execution_count": 16,
   "id": "4def58df",
   "metadata": {
    "ExecuteTime": {
     "end_time": "2022-06-26T06:09:06.201958Z",
     "start_time": "2022-06-26T06:09:06.137345Z"
    },
    "tags": []
   },
   "outputs": [],
   "source": [
    "for k, v in transfer_results.items():\n",
    "    v.to_hdf(f'{k}_transfer.hdf', key='data')"
   ]
  },
  {
   "cell_type": "code",
   "execution_count": 17,
   "id": "1c178304",
   "metadata": {
    "ExecuteTime": {
     "end_time": "2022-06-26T06:09:06.237250Z",
     "start_time": "2022-06-26T06:09:06.204002Z"
    },
    "papermill": {
     "duration": 0.822956,
     "end_time": "2022-06-21T09:21:24.552838",
     "exception": false,
     "start_time": "2022-06-21T09:21:23.729882",
     "status": "completed"
    },
    "pycharm": {
     "name": "#%%\n"
    },
    "tags": []
   },
   "outputs": [],
   "source": [
    "integrator.save_transfer_results_to_adata(adata_merge, transfer_results)"
   ]
  },
  {
   "cell_type": "markdown",
   "id": "504cb48a",
   "metadata": {
    "papermill": {
     "duration": 0.018649,
     "end_time": "2022-06-21T09:28:20.480885",
     "exception": false,
     "start_time": "2022-06-21T09:28:20.462236",
     "status": "completed"
    },
    "pycharm": {
     "name": "#%% md\n"
    },
    "tags": []
   },
   "source": [
    "## Save"
   ]
  },
  {
   "cell_type": "code",
   "execution_count": 18,
   "id": "a8b610a7",
   "metadata": {
    "ExecuteTime": {
     "end_time": "2022-06-26T06:09:06.323867Z",
     "start_time": "2022-06-26T06:09:06.241367Z"
    },
    "papermill": {
     "duration": 1.159457,
     "end_time": "2022-06-21T09:28:21.658781",
     "exception": false,
     "start_time": "2022-06-21T09:28:20.499324",
     "status": "completed"
    },
    "pycharm": {
     "name": "#%%\n"
    },
    "tags": []
   },
   "outputs": [],
   "source": [
    "adata_merge.write_h5ad('./adata/final.h5ad')"
   ]
  },
  {
   "cell_type": "code",
   "execution_count": 20,
   "id": "71d6c70b-5d57-48f4-b0cd-c8db5351220d",
   "metadata": {},
   "outputs": [
    {
     "data": {
      "text/plain": [
       "<ALLCools.integration.seurat_class.SeuratIntegration at 0x7f4451dab7d0>"
      ]
     },
     "execution_count": 20,
     "metadata": {},
     "output_type": "execute_result"
    }
   ],
   "source": [
    "integrator"
   ]
  },
  {
   "cell_type": "code",
   "execution_count": 19,
   "id": "900cde6e",
   "metadata": {
    "ExecuteTime": {
     "end_time": "2022-06-26T06:09:06.747764Z",
     "start_time": "2022-06-26T06:09:06.332437Z"
    },
    "papermill": {
     "duration": 0.061843,
     "end_time": "2022-06-21T09:28:21.740925",
     "exception": false,
     "start_time": "2022-06-21T09:28:21.679082",
     "status": "completed"
    },
    "pycharm": {
     "name": "#%%\n"
    },
    "tags": []
   },
   "outputs": [
    {
     "ename": "TypeError",
     "evalue": "Can't implicitly convert non-string objects to strings\n\nAbove error raised while writing key 'L1_annot' of <class 'h5py._hl.group.Group'> to /",
     "output_type": "error",
     "traceback": [
      "\u001b[0;31m---------------------------------------------------------------------------\u001b[0m",
      "\u001b[0;31mTypeError\u001b[0m                                 Traceback (most recent call last)",
      "\u001b[0;32m/opt/conda/lib/python3.7/site-packages/anndata/_io/utils.py\u001b[0m in \u001b[0;36mfunc_wrapper\u001b[0;34m(elem, key, val, *args, **kwargs)\u001b[0m\n\u001b[1;32m    213\u001b[0m         \u001b[0;32mtry\u001b[0m\u001b[0;34m:\u001b[0m\u001b[0;34m\u001b[0m\u001b[0;34m\u001b[0m\u001b[0m\n\u001b[0;32m--> 214\u001b[0;31m             \u001b[0;32mreturn\u001b[0m \u001b[0mfunc\u001b[0m\u001b[0;34m(\u001b[0m\u001b[0melem\u001b[0m\u001b[0;34m,\u001b[0m \u001b[0mkey\u001b[0m\u001b[0;34m,\u001b[0m \u001b[0mval\u001b[0m\u001b[0;34m,\u001b[0m \u001b[0;34m*\u001b[0m\u001b[0margs\u001b[0m\u001b[0;34m,\u001b[0m \u001b[0;34m**\u001b[0m\u001b[0mkwargs\u001b[0m\u001b[0;34m)\u001b[0m\u001b[0;34m\u001b[0m\u001b[0;34m\u001b[0m\u001b[0m\n\u001b[0m\u001b[1;32m    215\u001b[0m         \u001b[0;32mexcept\u001b[0m \u001b[0mException\u001b[0m \u001b[0;32mas\u001b[0m \u001b[0me\u001b[0m\u001b[0;34m:\u001b[0m\u001b[0;34m\u001b[0m\u001b[0;34m\u001b[0m\u001b[0m\n",
      "\u001b[0;32m/opt/conda/lib/python3.7/site-packages/anndata/_io/specs/registry.py\u001b[0m in \u001b[0;36mwrite_elem\u001b[0;34m(f, k, elem, modifiers, *args, **kwargs)\u001b[0m\n\u001b[1;32m    171\u001b[0m         _REGISTRY.get_writer(dest_type, (t, elem.dtype.kind), modifiers)(\n\u001b[0;32m--> 172\u001b[0;31m             \u001b[0mf\u001b[0m\u001b[0;34m,\u001b[0m \u001b[0mk\u001b[0m\u001b[0;34m,\u001b[0m \u001b[0melem\u001b[0m\u001b[0;34m,\u001b[0m \u001b[0;34m*\u001b[0m\u001b[0margs\u001b[0m\u001b[0;34m,\u001b[0m \u001b[0;34m**\u001b[0m\u001b[0mkwargs\u001b[0m\u001b[0;34m\u001b[0m\u001b[0;34m\u001b[0m\u001b[0m\n\u001b[0m\u001b[1;32m    173\u001b[0m         )\n",
      "\u001b[0;32m/opt/conda/lib/python3.7/site-packages/anndata/_io/specs/registry.py\u001b[0m in \u001b[0;36mwrapper\u001b[0;34m(g, k, *args, **kwargs)\u001b[0m\n\u001b[1;32m     23\u001b[0m         \u001b[0;32mdef\u001b[0m \u001b[0mwrapper\u001b[0m\u001b[0;34m(\u001b[0m\u001b[0mg\u001b[0m\u001b[0;34m,\u001b[0m \u001b[0mk\u001b[0m\u001b[0;34m,\u001b[0m \u001b[0;34m*\u001b[0m\u001b[0margs\u001b[0m\u001b[0;34m,\u001b[0m \u001b[0;34m**\u001b[0m\u001b[0mkwargs\u001b[0m\u001b[0;34m)\u001b[0m\u001b[0;34m:\u001b[0m\u001b[0;34m\u001b[0m\u001b[0;34m\u001b[0m\u001b[0m\n\u001b[0;32m---> 24\u001b[0;31m             \u001b[0mresult\u001b[0m \u001b[0;34m=\u001b[0m \u001b[0mfunc\u001b[0m\u001b[0;34m(\u001b[0m\u001b[0mg\u001b[0m\u001b[0;34m,\u001b[0m \u001b[0mk\u001b[0m\u001b[0;34m,\u001b[0m \u001b[0;34m*\u001b[0m\u001b[0margs\u001b[0m\u001b[0;34m,\u001b[0m \u001b[0;34m**\u001b[0m\u001b[0mkwargs\u001b[0m\u001b[0;34m)\u001b[0m\u001b[0;34m\u001b[0m\u001b[0;34m\u001b[0m\u001b[0m\n\u001b[0m\u001b[1;32m     25\u001b[0m             \u001b[0mg\u001b[0m\u001b[0;34m[\u001b[0m\u001b[0mk\u001b[0m\u001b[0;34m]\u001b[0m\u001b[0;34m.\u001b[0m\u001b[0mattrs\u001b[0m\u001b[0;34m.\u001b[0m\u001b[0msetdefault\u001b[0m\u001b[0;34m(\u001b[0m\u001b[0;34m\"encoding-type\"\u001b[0m\u001b[0;34m,\u001b[0m \u001b[0mspec\u001b[0m\u001b[0;34m.\u001b[0m\u001b[0mencoding_type\u001b[0m\u001b[0;34m)\u001b[0m\u001b[0;34m\u001b[0m\u001b[0;34m\u001b[0m\u001b[0m\n",
      "\u001b[0;32m/opt/conda/lib/python3.7/site-packages/anndata/_io/specs/methods.py\u001b[0m in \u001b[0;36mwrite_vlen_string_array\u001b[0;34m(f, k, elem, dataset_kwargs)\u001b[0m\n\u001b[1;32m    345\u001b[0m     \u001b[0mstr_dtype\u001b[0m \u001b[0;34m=\u001b[0m \u001b[0mh5py\u001b[0m\u001b[0;34m.\u001b[0m\u001b[0mspecial_dtype\u001b[0m\u001b[0;34m(\u001b[0m\u001b[0mvlen\u001b[0m\u001b[0;34m=\u001b[0m\u001b[0mstr\u001b[0m\u001b[0;34m)\u001b[0m\u001b[0;34m\u001b[0m\u001b[0;34m\u001b[0m\u001b[0m\n\u001b[0;32m--> 346\u001b[0;31m     \u001b[0mf\u001b[0m\u001b[0;34m.\u001b[0m\u001b[0mcreate_dataset\u001b[0m\u001b[0;34m(\u001b[0m\u001b[0mk\u001b[0m\u001b[0;34m,\u001b[0m \u001b[0mdata\u001b[0m\u001b[0;34m=\u001b[0m\u001b[0melem\u001b[0m\u001b[0;34m.\u001b[0m\u001b[0mastype\u001b[0m\u001b[0;34m(\u001b[0m\u001b[0mstr_dtype\u001b[0m\u001b[0;34m)\u001b[0m\u001b[0;34m,\u001b[0m \u001b[0mdtype\u001b[0m\u001b[0;34m=\u001b[0m\u001b[0mstr_dtype\u001b[0m\u001b[0;34m,\u001b[0m \u001b[0;34m**\u001b[0m\u001b[0mdataset_kwargs\u001b[0m\u001b[0;34m)\u001b[0m\u001b[0;34m\u001b[0m\u001b[0;34m\u001b[0m\u001b[0m\n\u001b[0m\u001b[1;32m    347\u001b[0m \u001b[0;34m\u001b[0m\u001b[0m\n",
      "\u001b[0;32m/opt/conda/lib/python3.7/site-packages/h5py/_hl/group.py\u001b[0m in \u001b[0;36mcreate_dataset\u001b[0;34m(self, name, shape, dtype, data, **kwds)\u001b[0m\n\u001b[1;32m    160\u001b[0m \u001b[0;34m\u001b[0m\u001b[0m\n\u001b[0;32m--> 161\u001b[0;31m             \u001b[0mdsid\u001b[0m \u001b[0;34m=\u001b[0m \u001b[0mdataset\u001b[0m\u001b[0;34m.\u001b[0m\u001b[0mmake_new_dset\u001b[0m\u001b[0;34m(\u001b[0m\u001b[0mgroup\u001b[0m\u001b[0;34m,\u001b[0m \u001b[0mshape\u001b[0m\u001b[0;34m,\u001b[0m \u001b[0mdtype\u001b[0m\u001b[0;34m,\u001b[0m \u001b[0mdata\u001b[0m\u001b[0;34m,\u001b[0m \u001b[0mname\u001b[0m\u001b[0;34m,\u001b[0m \u001b[0;34m**\u001b[0m\u001b[0mkwds\u001b[0m\u001b[0;34m)\u001b[0m\u001b[0;34m\u001b[0m\u001b[0;34m\u001b[0m\u001b[0m\n\u001b[0m\u001b[1;32m    162\u001b[0m             \u001b[0mdset\u001b[0m \u001b[0;34m=\u001b[0m \u001b[0mdataset\u001b[0m\u001b[0;34m.\u001b[0m\u001b[0mDataset\u001b[0m\u001b[0;34m(\u001b[0m\u001b[0mdsid\u001b[0m\u001b[0;34m)\u001b[0m\u001b[0;34m\u001b[0m\u001b[0;34m\u001b[0m\u001b[0m\n",
      "\u001b[0;32m/opt/conda/lib/python3.7/site-packages/h5py/_hl/dataset.py\u001b[0m in \u001b[0;36mmake_new_dset\u001b[0;34m(parent, shape, dtype, data, name, chunks, compression, shuffle, fletcher32, maxshape, compression_opts, fillvalue, scaleoffset, track_times, external, track_order, dcpl, dapl, efile_prefix, virtual_prefix, allow_unknown_filter)\u001b[0m\n\u001b[1;32m    158\u001b[0m     \u001b[0;32mif\u001b[0m \u001b[0;34m(\u001b[0m\u001b[0mdata\u001b[0m \u001b[0;32mis\u001b[0m \u001b[0;32mnot\u001b[0m \u001b[0;32mNone\u001b[0m\u001b[0;34m)\u001b[0m \u001b[0;32mand\u001b[0m \u001b[0;34m(\u001b[0m\u001b[0;32mnot\u001b[0m \u001b[0misinstance\u001b[0m\u001b[0;34m(\u001b[0m\u001b[0mdata\u001b[0m\u001b[0;34m,\u001b[0m \u001b[0mEmpty\u001b[0m\u001b[0;34m)\u001b[0m\u001b[0;34m)\u001b[0m\u001b[0;34m:\u001b[0m\u001b[0;34m\u001b[0m\u001b[0;34m\u001b[0m\u001b[0m\n\u001b[0;32m--> 159\u001b[0;31m         \u001b[0mdset_id\u001b[0m\u001b[0;34m.\u001b[0m\u001b[0mwrite\u001b[0m\u001b[0;34m(\u001b[0m\u001b[0mh5s\u001b[0m\u001b[0;34m.\u001b[0m\u001b[0mALL\u001b[0m\u001b[0;34m,\u001b[0m \u001b[0mh5s\u001b[0m\u001b[0;34m.\u001b[0m\u001b[0mALL\u001b[0m\u001b[0;34m,\u001b[0m \u001b[0mdata\u001b[0m\u001b[0;34m)\u001b[0m\u001b[0;34m\u001b[0m\u001b[0;34m\u001b[0m\u001b[0m\n\u001b[0m\u001b[1;32m    160\u001b[0m \u001b[0;34m\u001b[0m\u001b[0m\n",
      "\u001b[0;32mh5py/_objects.pyx\u001b[0m in \u001b[0;36mh5py._objects.with_phil.wrapper\u001b[0;34m()\u001b[0m\n",
      "\u001b[0;32mh5py/_objects.pyx\u001b[0m in \u001b[0;36mh5py._objects.with_phil.wrapper\u001b[0;34m()\u001b[0m\n",
      "\u001b[0;32mh5py/h5d.pyx\u001b[0m in \u001b[0;36mh5py.h5d.DatasetID.write\u001b[0;34m()\u001b[0m\n",
      "\u001b[0;32mh5py/_proxy.pyx\u001b[0m in \u001b[0;36mh5py._proxy.dset_rw\u001b[0;34m()\u001b[0m\n",
      "\u001b[0;32mh5py/_conv.pyx\u001b[0m in \u001b[0;36mh5py._conv.str2vlen\u001b[0;34m()\u001b[0m\n",
      "\u001b[0;32mh5py/_conv.pyx\u001b[0m in \u001b[0;36mh5py._conv.generic_converter\u001b[0;34m()\u001b[0m\n",
      "\u001b[0;32mh5py/_conv.pyx\u001b[0m in \u001b[0;36mh5py._conv.conv_str2vlen\u001b[0;34m()\u001b[0m\n",
      "\u001b[0;31mTypeError\u001b[0m: Can't implicitly convert non-string objects to strings",
      "\nThe above exception was the direct cause of the following exception:\n",
      "\u001b[0;31mTypeError\u001b[0m                                 Traceback (most recent call last)",
      "\u001b[0;32m/tmp/ipykernel_37404/1469181294.py\u001b[0m in \u001b[0;36m<module>\u001b[0;34m\u001b[0m\n\u001b[0;32m----> 1\u001b[0;31m \u001b[0mintegrator\u001b[0m\u001b[0;34m.\u001b[0m\u001b[0msave\u001b[0m\u001b[0;34m(\u001b[0m\u001b[0;34m'integration'\u001b[0m\u001b[0;34m)\u001b[0m\u001b[0;34m\u001b[0m\u001b[0;34m\u001b[0m\u001b[0m\n\u001b[0m",
      "\u001b[0;32m/opt/conda/lib/python3.7/site-packages/ALLCools/integration/seurat_class.py\u001b[0m in \u001b[0;36msave\u001b[0;34m(self, output_path, save_local_knn, save_raw_anchor, save_mutual_knn)\u001b[0m\n\u001b[1;32m    860\u001b[0m         \u001b[0;32mwith\u001b[0m \u001b[0mopen\u001b[0m\u001b[0;34m(\u001b[0m\u001b[0;34mf\"{adata_dir}/order.txt\"\u001b[0m\u001b[0;34m,\u001b[0m \u001b[0;34m\"w\"\u001b[0m\u001b[0;34m)\u001b[0m \u001b[0;32mas\u001b[0m \u001b[0mf\u001b[0m\u001b[0;34m:\u001b[0m\u001b[0;34m\u001b[0m\u001b[0;34m\u001b[0m\u001b[0m\n\u001b[1;32m    861\u001b[0m             \u001b[0;32mfor\u001b[0m \u001b[0mk\u001b[0m\u001b[0;34m,\u001b[0m \u001b[0mv\u001b[0m \u001b[0;32min\u001b[0m \u001b[0mself\u001b[0m\u001b[0;34m.\u001b[0m\u001b[0madata_dict\u001b[0m\u001b[0;34m.\u001b[0m\u001b[0mitems\u001b[0m\u001b[0;34m(\u001b[0m\u001b[0;34m)\u001b[0m\u001b[0;34m:\u001b[0m\u001b[0;34m\u001b[0m\u001b[0;34m\u001b[0m\u001b[0m\n\u001b[0;32m--> 862\u001b[0;31m                 \u001b[0mv\u001b[0m\u001b[0;34m.\u001b[0m\u001b[0mwrite_h5ad\u001b[0m\u001b[0;34m(\u001b[0m\u001b[0;34mf\"{adata_dir}/{k}.h5ad\"\u001b[0m\u001b[0;34m)\u001b[0m\u001b[0;34m\u001b[0m\u001b[0;34m\u001b[0m\u001b[0m\n\u001b[0m\u001b[1;32m    863\u001b[0m                 \u001b[0mf\u001b[0m\u001b[0;34m.\u001b[0m\u001b[0mwrite\u001b[0m\u001b[0;34m(\u001b[0m\u001b[0;34mf\"{k}\\n\"\u001b[0m\u001b[0;34m)\u001b[0m\u001b[0;34m\u001b[0m\u001b[0;34m\u001b[0m\u001b[0m\n\u001b[1;32m    864\u001b[0m         \u001b[0;31m# clear the adata in integrator\u001b[0m\u001b[0;34m\u001b[0m\u001b[0;34m\u001b[0m\u001b[0;34m\u001b[0m\u001b[0m\n",
      "\u001b[0;32m/opt/conda/lib/python3.7/site-packages/anndata/_core/anndata.py\u001b[0m in \u001b[0;36mwrite_h5ad\u001b[0;34m(self, filename, compression, compression_opts, force_dense, as_dense)\u001b[0m\n\u001b[1;32m   1922\u001b[0m             \u001b[0mcompression_opts\u001b[0m\u001b[0;34m=\u001b[0m\u001b[0mcompression_opts\u001b[0m\u001b[0;34m,\u001b[0m\u001b[0;34m\u001b[0m\u001b[0;34m\u001b[0m\u001b[0m\n\u001b[1;32m   1923\u001b[0m             \u001b[0mforce_dense\u001b[0m\u001b[0;34m=\u001b[0m\u001b[0mforce_dense\u001b[0m\u001b[0;34m,\u001b[0m\u001b[0;34m\u001b[0m\u001b[0;34m\u001b[0m\u001b[0m\n\u001b[0;32m-> 1924\u001b[0;31m             \u001b[0mas_dense\u001b[0m\u001b[0;34m=\u001b[0m\u001b[0mas_dense\u001b[0m\u001b[0;34m,\u001b[0m\u001b[0;34m\u001b[0m\u001b[0;34m\u001b[0m\u001b[0m\n\u001b[0m\u001b[1;32m   1925\u001b[0m         )\n\u001b[1;32m   1926\u001b[0m \u001b[0;34m\u001b[0m\u001b[0m\n",
      "\u001b[0;32m/opt/conda/lib/python3.7/site-packages/anndata/_io/h5ad.py\u001b[0m in \u001b[0;36mwrite_h5ad\u001b[0;34m(filepath, adata, force_dense, as_dense, dataset_kwargs, **kwargs)\u001b[0m\n\u001b[1;32m     96\u001b[0m         \u001b[0;32melif\u001b[0m \u001b[0madata\u001b[0m\u001b[0;34m.\u001b[0m\u001b[0mraw\u001b[0m \u001b[0;32mis\u001b[0m \u001b[0;32mnot\u001b[0m \u001b[0;32mNone\u001b[0m\u001b[0;34m:\u001b[0m\u001b[0;34m\u001b[0m\u001b[0;34m\u001b[0m\u001b[0m\n\u001b[1;32m     97\u001b[0m             \u001b[0mwrite_elem\u001b[0m\u001b[0;34m(\u001b[0m\u001b[0mf\u001b[0m\u001b[0;34m,\u001b[0m \u001b[0;34m\"raw\"\u001b[0m\u001b[0;34m,\u001b[0m \u001b[0madata\u001b[0m\u001b[0;34m.\u001b[0m\u001b[0mraw\u001b[0m\u001b[0;34m,\u001b[0m \u001b[0mdataset_kwargs\u001b[0m\u001b[0;34m=\u001b[0m\u001b[0mdataset_kwargs\u001b[0m\u001b[0;34m)\u001b[0m\u001b[0;34m\u001b[0m\u001b[0;34m\u001b[0m\u001b[0m\n\u001b[0;32m---> 98\u001b[0;31m         \u001b[0mwrite_elem\u001b[0m\u001b[0;34m(\u001b[0m\u001b[0mf\u001b[0m\u001b[0;34m,\u001b[0m \u001b[0;34m\"obs\"\u001b[0m\u001b[0;34m,\u001b[0m \u001b[0madata\u001b[0m\u001b[0;34m.\u001b[0m\u001b[0mobs\u001b[0m\u001b[0;34m,\u001b[0m \u001b[0mdataset_kwargs\u001b[0m\u001b[0;34m=\u001b[0m\u001b[0mdataset_kwargs\u001b[0m\u001b[0;34m)\u001b[0m\u001b[0;34m\u001b[0m\u001b[0;34m\u001b[0m\u001b[0m\n\u001b[0m\u001b[1;32m     99\u001b[0m         \u001b[0mwrite_elem\u001b[0m\u001b[0;34m(\u001b[0m\u001b[0mf\u001b[0m\u001b[0;34m,\u001b[0m \u001b[0;34m\"var\"\u001b[0m\u001b[0;34m,\u001b[0m \u001b[0madata\u001b[0m\u001b[0;34m.\u001b[0m\u001b[0mvar\u001b[0m\u001b[0;34m,\u001b[0m \u001b[0mdataset_kwargs\u001b[0m\u001b[0;34m=\u001b[0m\u001b[0mdataset_kwargs\u001b[0m\u001b[0;34m)\u001b[0m\u001b[0;34m\u001b[0m\u001b[0;34m\u001b[0m\u001b[0m\n\u001b[1;32m    100\u001b[0m         \u001b[0mwrite_elem\u001b[0m\u001b[0;34m(\u001b[0m\u001b[0mf\u001b[0m\u001b[0;34m,\u001b[0m \u001b[0;34m\"obsm\"\u001b[0m\u001b[0;34m,\u001b[0m \u001b[0mdict\u001b[0m\u001b[0;34m(\u001b[0m\u001b[0madata\u001b[0m\u001b[0;34m.\u001b[0m\u001b[0mobsm\u001b[0m\u001b[0;34m)\u001b[0m\u001b[0;34m,\u001b[0m \u001b[0mdataset_kwargs\u001b[0m\u001b[0;34m=\u001b[0m\u001b[0mdataset_kwargs\u001b[0m\u001b[0;34m)\u001b[0m\u001b[0;34m\u001b[0m\u001b[0;34m\u001b[0m\u001b[0m\n",
      "\u001b[0;32m/opt/conda/lib/python3.7/site-packages/anndata/_io/utils.py\u001b[0m in \u001b[0;36mfunc_wrapper\u001b[0;34m(elem, key, val, *args, **kwargs)\u001b[0m\n\u001b[1;32m    212\u001b[0m     \u001b[0;32mdef\u001b[0m \u001b[0mfunc_wrapper\u001b[0m\u001b[0;34m(\u001b[0m\u001b[0melem\u001b[0m\u001b[0;34m,\u001b[0m \u001b[0mkey\u001b[0m\u001b[0;34m,\u001b[0m \u001b[0mval\u001b[0m\u001b[0;34m,\u001b[0m \u001b[0;34m*\u001b[0m\u001b[0margs\u001b[0m\u001b[0;34m,\u001b[0m \u001b[0;34m**\u001b[0m\u001b[0mkwargs\u001b[0m\u001b[0;34m)\u001b[0m\u001b[0;34m:\u001b[0m\u001b[0;34m\u001b[0m\u001b[0;34m\u001b[0m\u001b[0m\n\u001b[1;32m    213\u001b[0m         \u001b[0;32mtry\u001b[0m\u001b[0;34m:\u001b[0m\u001b[0;34m\u001b[0m\u001b[0;34m\u001b[0m\u001b[0m\n\u001b[0;32m--> 214\u001b[0;31m             \u001b[0;32mreturn\u001b[0m \u001b[0mfunc\u001b[0m\u001b[0;34m(\u001b[0m\u001b[0melem\u001b[0m\u001b[0;34m,\u001b[0m \u001b[0mkey\u001b[0m\u001b[0;34m,\u001b[0m \u001b[0mval\u001b[0m\u001b[0;34m,\u001b[0m \u001b[0;34m*\u001b[0m\u001b[0margs\u001b[0m\u001b[0;34m,\u001b[0m \u001b[0;34m**\u001b[0m\u001b[0mkwargs\u001b[0m\u001b[0;34m)\u001b[0m\u001b[0;34m\u001b[0m\u001b[0;34m\u001b[0m\u001b[0m\n\u001b[0m\u001b[1;32m    215\u001b[0m         \u001b[0;32mexcept\u001b[0m \u001b[0mException\u001b[0m \u001b[0;32mas\u001b[0m \u001b[0me\u001b[0m\u001b[0;34m:\u001b[0m\u001b[0;34m\u001b[0m\u001b[0;34m\u001b[0m\u001b[0m\n\u001b[1;32m    216\u001b[0m             \u001b[0;32mif\u001b[0m \u001b[0;34m\"Above error raised while writing key\"\u001b[0m \u001b[0;32min\u001b[0m \u001b[0mformat\u001b[0m\u001b[0;34m(\u001b[0m\u001b[0me\u001b[0m\u001b[0;34m)\u001b[0m\u001b[0;34m:\u001b[0m\u001b[0;34m\u001b[0m\u001b[0;34m\u001b[0m\u001b[0m\n",
      "\u001b[0;32m/opt/conda/lib/python3.7/site-packages/anndata/_io/specs/registry.py\u001b[0m in \u001b[0;36mwrite_elem\u001b[0;34m(f, k, elem, modifiers, *args, **kwargs)\u001b[0m\n\u001b[1;32m    173\u001b[0m         )\n\u001b[1;32m    174\u001b[0m     \u001b[0;32melse\u001b[0m\u001b[0;34m:\u001b[0m\u001b[0;34m\u001b[0m\u001b[0;34m\u001b[0m\u001b[0m\n\u001b[0;32m--> 175\u001b[0;31m         \u001b[0m_REGISTRY\u001b[0m\u001b[0;34m.\u001b[0m\u001b[0mget_writer\u001b[0m\u001b[0;34m(\u001b[0m\u001b[0mdest_type\u001b[0m\u001b[0;34m,\u001b[0m \u001b[0mt\u001b[0m\u001b[0;34m,\u001b[0m \u001b[0mmodifiers\u001b[0m\u001b[0;34m)\u001b[0m\u001b[0;34m(\u001b[0m\u001b[0mf\u001b[0m\u001b[0;34m,\u001b[0m \u001b[0mk\u001b[0m\u001b[0;34m,\u001b[0m \u001b[0melem\u001b[0m\u001b[0;34m,\u001b[0m \u001b[0;34m*\u001b[0m\u001b[0margs\u001b[0m\u001b[0;34m,\u001b[0m \u001b[0;34m**\u001b[0m\u001b[0mkwargs\u001b[0m\u001b[0;34m)\u001b[0m\u001b[0;34m\u001b[0m\u001b[0;34m\u001b[0m\u001b[0m\n\u001b[0m\u001b[1;32m    176\u001b[0m \u001b[0;34m\u001b[0m\u001b[0m\n\u001b[1;32m    177\u001b[0m \u001b[0;34m\u001b[0m\u001b[0m\n",
      "\u001b[0;32m/opt/conda/lib/python3.7/site-packages/anndata/_io/specs/registry.py\u001b[0m in \u001b[0;36mwrapper\u001b[0;34m(g, k, *args, **kwargs)\u001b[0m\n\u001b[1;32m     22\u001b[0m         \u001b[0;34m@\u001b[0m\u001b[0mwraps\u001b[0m\u001b[0;34m(\u001b[0m\u001b[0mfunc\u001b[0m\u001b[0;34m)\u001b[0m\u001b[0;34m\u001b[0m\u001b[0;34m\u001b[0m\u001b[0m\n\u001b[1;32m     23\u001b[0m         \u001b[0;32mdef\u001b[0m \u001b[0mwrapper\u001b[0m\u001b[0;34m(\u001b[0m\u001b[0mg\u001b[0m\u001b[0;34m,\u001b[0m \u001b[0mk\u001b[0m\u001b[0;34m,\u001b[0m \u001b[0;34m*\u001b[0m\u001b[0margs\u001b[0m\u001b[0;34m,\u001b[0m \u001b[0;34m**\u001b[0m\u001b[0mkwargs\u001b[0m\u001b[0;34m)\u001b[0m\u001b[0;34m:\u001b[0m\u001b[0;34m\u001b[0m\u001b[0;34m\u001b[0m\u001b[0m\n\u001b[0;32m---> 24\u001b[0;31m             \u001b[0mresult\u001b[0m \u001b[0;34m=\u001b[0m \u001b[0mfunc\u001b[0m\u001b[0;34m(\u001b[0m\u001b[0mg\u001b[0m\u001b[0;34m,\u001b[0m \u001b[0mk\u001b[0m\u001b[0;34m,\u001b[0m \u001b[0;34m*\u001b[0m\u001b[0margs\u001b[0m\u001b[0;34m,\u001b[0m \u001b[0;34m**\u001b[0m\u001b[0mkwargs\u001b[0m\u001b[0;34m)\u001b[0m\u001b[0;34m\u001b[0m\u001b[0;34m\u001b[0m\u001b[0m\n\u001b[0m\u001b[1;32m     25\u001b[0m             \u001b[0mg\u001b[0m\u001b[0;34m[\u001b[0m\u001b[0mk\u001b[0m\u001b[0;34m]\u001b[0m\u001b[0;34m.\u001b[0m\u001b[0mattrs\u001b[0m\u001b[0;34m.\u001b[0m\u001b[0msetdefault\u001b[0m\u001b[0;34m(\u001b[0m\u001b[0;34m\"encoding-type\"\u001b[0m\u001b[0;34m,\u001b[0m \u001b[0mspec\u001b[0m\u001b[0;34m.\u001b[0m\u001b[0mencoding_type\u001b[0m\u001b[0;34m)\u001b[0m\u001b[0;34m\u001b[0m\u001b[0;34m\u001b[0m\u001b[0m\n\u001b[1;32m     26\u001b[0m             \u001b[0mg\u001b[0m\u001b[0;34m[\u001b[0m\u001b[0mk\u001b[0m\u001b[0;34m]\u001b[0m\u001b[0;34m.\u001b[0m\u001b[0mattrs\u001b[0m\u001b[0;34m.\u001b[0m\u001b[0msetdefault\u001b[0m\u001b[0;34m(\u001b[0m\u001b[0;34m\"encoding-version\"\u001b[0m\u001b[0;34m,\u001b[0m \u001b[0mspec\u001b[0m\u001b[0;34m.\u001b[0m\u001b[0mencoding_version\u001b[0m\u001b[0;34m)\u001b[0m\u001b[0;34m\u001b[0m\u001b[0;34m\u001b[0m\u001b[0m\n",
      "\u001b[0;32m/opt/conda/lib/python3.7/site-packages/anndata/_io/specs/methods.py\u001b[0m in \u001b[0;36mwrite_dataframe\u001b[0;34m(f, key, df, dataset_kwargs)\u001b[0m\n\u001b[1;32m    512\u001b[0m     \u001b[0;32mfor\u001b[0m \u001b[0mcolname\u001b[0m\u001b[0;34m,\u001b[0m \u001b[0mseries\u001b[0m \u001b[0;32min\u001b[0m \u001b[0mdf\u001b[0m\u001b[0;34m.\u001b[0m\u001b[0mitems\u001b[0m\u001b[0;34m(\u001b[0m\u001b[0;34m)\u001b[0m\u001b[0;34m:\u001b[0m\u001b[0;34m\u001b[0m\u001b[0;34m\u001b[0m\u001b[0m\n\u001b[1;32m    513\u001b[0m         \u001b[0;31m# TODO: this should write the \"true\" representation of the series (i.e. the underlying array or ndarray depending)\u001b[0m\u001b[0;34m\u001b[0m\u001b[0;34m\u001b[0m\u001b[0;34m\u001b[0m\u001b[0m\n\u001b[0;32m--> 514\u001b[0;31m         \u001b[0mwrite_elem\u001b[0m\u001b[0;34m(\u001b[0m\u001b[0mgroup\u001b[0m\u001b[0;34m,\u001b[0m \u001b[0mcolname\u001b[0m\u001b[0;34m,\u001b[0m \u001b[0mseries\u001b[0m\u001b[0;34m.\u001b[0m\u001b[0m_values\u001b[0m\u001b[0;34m,\u001b[0m \u001b[0mdataset_kwargs\u001b[0m\u001b[0;34m=\u001b[0m\u001b[0mdataset_kwargs\u001b[0m\u001b[0;34m)\u001b[0m\u001b[0;34m\u001b[0m\u001b[0;34m\u001b[0m\u001b[0m\n\u001b[0m\u001b[1;32m    515\u001b[0m \u001b[0;34m\u001b[0m\u001b[0m\n\u001b[1;32m    516\u001b[0m \u001b[0;34m\u001b[0m\u001b[0m\n",
      "\u001b[0;32m/opt/conda/lib/python3.7/site-packages/anndata/_io/utils.py\u001b[0m in \u001b[0;36mfunc_wrapper\u001b[0;34m(elem, key, val, *args, **kwargs)\u001b[0m\n\u001b[1;32m    222\u001b[0m                     \u001b[0;34mf\"Above error raised while writing key {key!r} of {type(elem)} \"\u001b[0m\u001b[0;34m\u001b[0m\u001b[0;34m\u001b[0m\u001b[0m\n\u001b[1;32m    223\u001b[0m                     \u001b[0;34mf\"to {parent}\"\u001b[0m\u001b[0;34m\u001b[0m\u001b[0;34m\u001b[0m\u001b[0m\n\u001b[0;32m--> 224\u001b[0;31m                 ) from e\n\u001b[0m\u001b[1;32m    225\u001b[0m \u001b[0;34m\u001b[0m\u001b[0m\n\u001b[1;32m    226\u001b[0m     \u001b[0;32mreturn\u001b[0m \u001b[0mfunc_wrapper\u001b[0m\u001b[0;34m\u001b[0m\u001b[0;34m\u001b[0m\u001b[0m\n",
      "\u001b[0;31mTypeError\u001b[0m: Can't implicitly convert non-string objects to strings\n\nAbove error raised while writing key 'L1_annot' of <class 'h5py._hl.group.Group'> to /"
     ]
    }
   ],
   "source": [
    "integrator.save('integration')"
   ]
  },
  {
   "cell_type": "code",
   "execution_count": null,
   "id": "a6b82e5c",
   "metadata": {
    "papermill": {
     "duration": 0.068083,
     "end_time": "2022-06-21T09:28:30.933456",
     "exception": false,
     "start_time": "2022-06-21T09:28:30.865373",
     "status": "completed"
    },
    "pycharm": {
     "name": "#%%\n"
    },
    "tags": []
   },
   "outputs": [],
   "source": []
  },
  {
   "cell_type": "code",
   "execution_count": null,
   "id": "1db0538f",
   "metadata": {
    "papermill": {
     "duration": 0.076077,
     "end_time": "2022-06-21T09:28:31.077452",
     "exception": false,
     "start_time": "2022-06-21T09:28:31.001375",
     "status": "completed"
    },
    "pycharm": {
     "name": "#%%\n"
    },
    "tags": []
   },
   "outputs": [],
   "source": []
  },
  {
   "cell_type": "code",
   "execution_count": null,
   "id": "edcfb8b6",
   "metadata": {
    "papermill": {
     "duration": 0.070231,
     "end_time": "2022-06-21T09:28:31.218357",
     "exception": false,
     "start_time": "2022-06-21T09:28:31.148126",
     "status": "completed"
    },
    "pycharm": {
     "name": "#%%\n"
    },
    "tags": []
   },
   "outputs": [],
   "source": []
  }
 ],
 "metadata": {
  "celltoolbar": "无",
  "hide_input": false,
  "kernelspec": {
   "display_name": "Python 3 (ipykernel)",
   "language": "python",
   "name": "python3"
  },
  "language_info": {
   "codemirror_mode": {
    "name": "ipython",
    "version": 3
   },
   "file_extension": ".py",
   "mimetype": "text/x-python",
   "name": "python",
   "nbconvert_exporter": "python",
   "pygments_lexer": "ipython3",
   "version": "3.7.12"
  },
  "papermill": {
   "default_parameters": {},
   "duration": 11622.679848,
   "end_time": "2022-06-21T09:28:35.000680",
   "environment_variables": {},
   "exception": null,
   "input_path": "/home/hanliu/project/cemba/study/Integration/mC_AIBS_SMART_Gene/Template/04.integration.ipynb",
   "output_path": "Neuron/04.integration.ipynb",
   "parameters": {},
   "start_time": "2022-06-21T06:14:52.320832",
   "version": "2.3.3"
  },
  "toc": {
   "base_numbering": 1,
   "nav_menu": {},
   "number_sections": true,
   "sideBar": true,
   "skip_h1_title": true,
   "title_cell": "Table of Contents",
   "title_sidebar": "Contents",
   "toc_cell": false,
   "toc_position": {},
   "toc_section_display": true,
   "toc_window_display": true
  }
 },
 "nbformat": 4,
 "nbformat_minor": 5
}
