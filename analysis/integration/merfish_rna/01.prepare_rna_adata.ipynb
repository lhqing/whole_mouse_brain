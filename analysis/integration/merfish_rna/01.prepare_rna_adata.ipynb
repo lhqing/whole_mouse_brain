{
 "cells": [
  {
   "cell_type": "markdown",
   "id": "34deaf20",
   "metadata": {
    "papermill": {
     "duration": 0.010537,
     "end_time": "2022-06-20T23:02:45.954362",
     "exception": false,
     "start_time": "2022-06-20T23:02:45.943825",
     "status": "completed"
    },
    "pycharm": {
     "name": "#%% md\n"
    },
    "tags": []
   },
   "source": [
    "## Import"
   ]
  },
  {
   "cell_type": "code",
   "execution_count": 1,
   "id": "eecf846f",
   "metadata": {
    "ExecuteTime": {
     "end_time": "2022-06-21T05:12:06.338279Z",
     "start_time": "2022-06-21T05:12:04.001263Z"
    },
    "papermill": {
     "duration": 2.51215,
     "end_time": "2022-06-20T23:02:48.476330",
     "exception": false,
     "start_time": "2022-06-20T23:02:45.964180",
     "status": "completed"
    },
    "pycharm": {
     "name": "#%%\n"
    },
    "tags": []
   },
   "outputs": [],
   "source": [
    "from ALLCools.clustering import *\n",
    "from ALLCools.mcds import MCDS\n",
    "from wmb import brain, aibs, broad, mm10\n",
    "\n",
    "import pandas as pd\n",
    "import anndata\n",
    "\n",
    "import matplotlib.pyplot as plt\n",
    "from ALLCools.plot import *\n",
    "\n",
    "import scanpy as sc"
   ]
  },
  {
   "cell_type": "code",
   "execution_count": 2,
   "id": "72094c70",
   "metadata": {
    "ExecuteTime": {
     "end_time": "2022-06-21T05:12:06.342480Z",
     "start_time": "2022-06-21T05:12:06.340083Z"
    },
    "papermill": {
     "duration": 0.014312,
     "end_time": "2022-06-20T23:02:48.500837",
     "exception": false,
     "start_time": "2022-06-20T23:02:48.486525",
     "status": "completed"
    },
    "pycharm": {
     "name": "#%%\n"
    },
    "tags": [
     "parameters"
    ]
   },
   "outputs": [],
   "source": [
    "n_cell = 5\n",
    "dataset = 'AIBS_SMART'"
   ]
  },
  {
   "cell_type": "markdown",
   "id": "8a3aa1bf",
   "metadata": {
    "papermill": {
     "duration": 0.009608,
     "end_time": "2022-06-20T23:02:48.520113",
     "exception": false,
     "start_time": "2022-06-20T23:02:48.510505",
     "status": "completed"
    },
    "pycharm": {
     "name": "#%% md\n"
    },
    "tags": []
   },
   "source": [
    "## Select cells"
   ]
  },
  {
   "cell_type": "code",
   "execution_count": 3,
   "id": "f16d1e09",
   "metadata": {
    "papermill": {
     "duration": 0.077028,
     "end_time": "2022-06-20T23:02:48.606735",
     "exception": false,
     "start_time": "2022-06-20T23:02:48.529707",
     "status": "completed"
    },
    "pycharm": {
     "name": "#%%\n"
    },
    "tags": []
   },
   "outputs": [
    {
     "data": {
      "text/plain": [
       "100000"
      ]
     },
     "execution_count": 3,
     "metadata": {},
     "output_type": "execute_result"
    }
   ],
   "source": [
    "cells = pd.read_csv('rna_cells.txt', index_col=0, header=None).index\n",
    "cells.name = 'cell'\n",
    "cells.size"
   ]
  },
  {
   "cell_type": "markdown",
   "id": "2f339de2",
   "metadata": {
    "papermill": {
     "duration": 0.010486,
     "end_time": "2022-06-20T23:02:48.627860",
     "exception": false,
     "start_time": "2022-06-20T23:02:48.617374",
     "status": "completed"
    },
    "pycharm": {
     "name": "#%% md\n"
    },
    "tags": []
   },
   "source": [
    "## Get adata with basic feature selection"
   ]
  },
  {
   "cell_type": "code",
   "execution_count": 4,
   "id": "a3f2c7e4",
   "metadata": {
    "ExecuteTime": {
     "end_time": "2022-06-21T05:12:06.904649Z",
     "start_time": "2022-06-21T05:12:06.864056Z"
    },
    "papermill": {
     "duration": 0.052827,
     "end_time": "2022-06-20T23:02:48.691137",
     "exception": false,
     "start_time": "2022-06-20T23:02:48.638310",
     "status": "completed"
    },
    "tags": []
   },
   "outputs": [],
   "source": [
    "if dataset == 'AIBS_SMART':\n",
    "    mcds_path = aibs.AIBS_SMART_ZARR_PATH\n",
    "    gene_map = aibs.get_smart_gene_map()\n",
    "elif dataset == 'AIBS_TENX':\n",
    "    mcds_path = aibs.AIBS_TENX_ZARR_PATH\n",
    "    gene_map = aibs.get_tenx_gene_map()\n",
    "else:\n",
    "    mcds_path = broad.BROAD_TENX_ZARR_PATH\n",
    "    gene_map = broad.get_tenx_gene_map()"
   ]
  },
  {
   "cell_type": "code",
   "execution_count": 5,
   "id": "76e2c9e7",
   "metadata": {
    "ExecuteTime": {
     "end_time": "2022-06-20T20:23:42.988167Z",
     "start_time": "2022-06-20T20:23:34.201667Z"
    },
    "papermill": {
     "duration": 1.740935,
     "end_time": "2022-06-20T23:02:50.442323",
     "exception": false,
     "start_time": "2022-06-20T23:02:48.701388",
     "status": "completed"
    },
    "pycharm": {
     "name": "#%%\n"
    },
    "tags": []
   },
   "outputs": [],
   "source": [
    "rna_ds = MCDS.open(mcds_path, use_obs=cells, var_dim='gene')"
   ]
  },
  {
   "cell_type": "code",
   "execution_count": 6,
   "id": "736d4a57-4bad-4b9a-ba47-47b745e118b6",
   "metadata": {},
   "outputs": [
    {
     "data": {
      "text/html": [
       "<div><svg style=\"position: absolute; width: 0; height: 0; overflow: hidden\">\n",
       "<defs>\n",
       "<symbol id=\"icon-database\" viewBox=\"0 0 32 32\">\n",
       "<path d=\"M16 0c-8.837 0-16 2.239-16 5v4c0 2.761 7.163 5 16 5s16-2.239 16-5v-4c0-2.761-7.163-5-16-5z\"></path>\n",
       "<path d=\"M16 17c-8.837 0-16-2.239-16-5v6c0 2.761 7.163 5 16 5s16-2.239 16-5v-6c0 2.761-7.163 5-16 5z\"></path>\n",
       "<path d=\"M16 26c-8.837 0-16-2.239-16-5v6c0 2.761 7.163 5 16 5s16-2.239 16-5v-6c0 2.761-7.163 5-16 5z\"></path>\n",
       "</symbol>\n",
       "<symbol id=\"icon-file-text2\" viewBox=\"0 0 32 32\">\n",
       "<path d=\"M28.681 7.159c-0.694-0.947-1.662-2.053-2.724-3.116s-2.169-2.030-3.116-2.724c-1.612-1.182-2.393-1.319-2.841-1.319h-15.5c-1.378 0-2.5 1.121-2.5 2.5v27c0 1.378 1.122 2.5 2.5 2.5h23c1.378 0 2.5-1.122 2.5-2.5v-19.5c0-0.448-0.137-1.23-1.319-2.841zM24.543 5.457c0.959 0.959 1.712 1.825 2.268 2.543h-4.811v-4.811c0.718 0.556 1.584 1.309 2.543 2.268zM28 29.5c0 0.271-0.229 0.5-0.5 0.5h-23c-0.271 0-0.5-0.229-0.5-0.5v-27c0-0.271 0.229-0.5 0.5-0.5 0 0 15.499-0 15.5 0v7c0 0.552 0.448 1 1 1h7v19.5z\"></path>\n",
       "<path d=\"M23 26h-14c-0.552 0-1-0.448-1-1s0.448-1 1-1h14c0.552 0 1 0.448 1 1s-0.448 1-1 1z\"></path>\n",
       "<path d=\"M23 22h-14c-0.552 0-1-0.448-1-1s0.448-1 1-1h14c0.552 0 1 0.448 1 1s-0.448 1-1 1z\"></path>\n",
       "<path d=\"M23 18h-14c-0.552 0-1-0.448-1-1s0.448-1 1-1h14c0.552 0 1 0.448 1 1s-0.448 1-1 1z\"></path>\n",
       "</symbol>\n",
       "</defs>\n",
       "</svg>\n",
       "<style>/* CSS stylesheet for displaying xarray objects in jupyterlab.\n",
       " *\n",
       " */\n",
       "\n",
       ":root {\n",
       "  --xr-font-color0: var(--jp-content-font-color0, rgba(0, 0, 0, 1));\n",
       "  --xr-font-color2: var(--jp-content-font-color2, rgba(0, 0, 0, 0.54));\n",
       "  --xr-font-color3: var(--jp-content-font-color3, rgba(0, 0, 0, 0.38));\n",
       "  --xr-border-color: var(--jp-border-color2, #e0e0e0);\n",
       "  --xr-disabled-color: var(--jp-layout-color3, #bdbdbd);\n",
       "  --xr-background-color: var(--jp-layout-color0, white);\n",
       "  --xr-background-color-row-even: var(--jp-layout-color1, white);\n",
       "  --xr-background-color-row-odd: var(--jp-layout-color2, #eeeeee);\n",
       "}\n",
       "\n",
       "html[theme=dark],\n",
       "body.vscode-dark {\n",
       "  --xr-font-color0: rgba(255, 255, 255, 1);\n",
       "  --xr-font-color2: rgba(255, 255, 255, 0.54);\n",
       "  --xr-font-color3: rgba(255, 255, 255, 0.38);\n",
       "  --xr-border-color: #1F1F1F;\n",
       "  --xr-disabled-color: #515151;\n",
       "  --xr-background-color: #111111;\n",
       "  --xr-background-color-row-even: #111111;\n",
       "  --xr-background-color-row-odd: #313131;\n",
       "}\n",
       "\n",
       ".xr-wrap {\n",
       "  display: block !important;\n",
       "  min-width: 300px;\n",
       "  max-width: 700px;\n",
       "}\n",
       "\n",
       ".xr-text-repr-fallback {\n",
       "  /* fallback to plain text repr when CSS is not injected (untrusted notebook) */\n",
       "  display: none;\n",
       "}\n",
       "\n",
       ".xr-header {\n",
       "  padding-top: 6px;\n",
       "  padding-bottom: 6px;\n",
       "  margin-bottom: 4px;\n",
       "  border-bottom: solid 1px var(--xr-border-color);\n",
       "}\n",
       "\n",
       ".xr-header > div,\n",
       ".xr-header > ul {\n",
       "  display: inline;\n",
       "  margin-top: 0;\n",
       "  margin-bottom: 0;\n",
       "}\n",
       "\n",
       ".xr-obj-type,\n",
       ".xr-array-name {\n",
       "  margin-left: 2px;\n",
       "  margin-right: 10px;\n",
       "}\n",
       "\n",
       ".xr-obj-type {\n",
       "  color: var(--xr-font-color2);\n",
       "}\n",
       "\n",
       ".xr-sections {\n",
       "  padding-left: 0 !important;\n",
       "  display: grid;\n",
       "  grid-template-columns: 150px auto auto 1fr 20px 20px;\n",
       "}\n",
       "\n",
       ".xr-section-item {\n",
       "  display: contents;\n",
       "}\n",
       "\n",
       ".xr-section-item input {\n",
       "  display: none;\n",
       "}\n",
       "\n",
       ".xr-section-item input + label {\n",
       "  color: var(--xr-disabled-color);\n",
       "}\n",
       "\n",
       ".xr-section-item input:enabled + label {\n",
       "  cursor: pointer;\n",
       "  color: var(--xr-font-color2);\n",
       "}\n",
       "\n",
       ".xr-section-item input:enabled + label:hover {\n",
       "  color: var(--xr-font-color0);\n",
       "}\n",
       "\n",
       ".xr-section-summary {\n",
       "  grid-column: 1;\n",
       "  color: var(--xr-font-color2);\n",
       "  font-weight: 500;\n",
       "}\n",
       "\n",
       ".xr-section-summary > span {\n",
       "  display: inline-block;\n",
       "  padding-left: 0.5em;\n",
       "}\n",
       "\n",
       ".xr-section-summary-in:disabled + label {\n",
       "  color: var(--xr-font-color2);\n",
       "}\n",
       "\n",
       ".xr-section-summary-in + label:before {\n",
       "  display: inline-block;\n",
       "  content: '►';\n",
       "  font-size: 11px;\n",
       "  width: 15px;\n",
       "  text-align: center;\n",
       "}\n",
       "\n",
       ".xr-section-summary-in:disabled + label:before {\n",
       "  color: var(--xr-disabled-color);\n",
       "}\n",
       "\n",
       ".xr-section-summary-in:checked + label:before {\n",
       "  content: '▼';\n",
       "}\n",
       "\n",
       ".xr-section-summary-in:checked + label > span {\n",
       "  display: none;\n",
       "}\n",
       "\n",
       ".xr-section-summary,\n",
       ".xr-section-inline-details {\n",
       "  padding-top: 4px;\n",
       "  padding-bottom: 4px;\n",
       "}\n",
       "\n",
       ".xr-section-inline-details {\n",
       "  grid-column: 2 / -1;\n",
       "}\n",
       "\n",
       ".xr-section-details {\n",
       "  display: none;\n",
       "  grid-column: 1 / -1;\n",
       "  margin-bottom: 5px;\n",
       "}\n",
       "\n",
       ".xr-section-summary-in:checked ~ .xr-section-details {\n",
       "  display: contents;\n",
       "}\n",
       "\n",
       ".xr-array-wrap {\n",
       "  grid-column: 1 / -1;\n",
       "  display: grid;\n",
       "  grid-template-columns: 20px auto;\n",
       "}\n",
       "\n",
       ".xr-array-wrap > label {\n",
       "  grid-column: 1;\n",
       "  vertical-align: top;\n",
       "}\n",
       "\n",
       ".xr-preview {\n",
       "  color: var(--xr-font-color3);\n",
       "}\n",
       "\n",
       ".xr-array-preview,\n",
       ".xr-array-data {\n",
       "  padding: 0 5px !important;\n",
       "  grid-column: 2;\n",
       "}\n",
       "\n",
       ".xr-array-data,\n",
       ".xr-array-in:checked ~ .xr-array-preview {\n",
       "  display: none;\n",
       "}\n",
       "\n",
       ".xr-array-in:checked ~ .xr-array-data,\n",
       ".xr-array-preview {\n",
       "  display: inline-block;\n",
       "}\n",
       "\n",
       ".xr-dim-list {\n",
       "  display: inline-block !important;\n",
       "  list-style: none;\n",
       "  padding: 0 !important;\n",
       "  margin: 0;\n",
       "}\n",
       "\n",
       ".xr-dim-list li {\n",
       "  display: inline-block;\n",
       "  padding: 0;\n",
       "  margin: 0;\n",
       "}\n",
       "\n",
       ".xr-dim-list:before {\n",
       "  content: '(';\n",
       "}\n",
       "\n",
       ".xr-dim-list:after {\n",
       "  content: ')';\n",
       "}\n",
       "\n",
       ".xr-dim-list li:not(:last-child):after {\n",
       "  content: ',';\n",
       "  padding-right: 5px;\n",
       "}\n",
       "\n",
       ".xr-has-index {\n",
       "  font-weight: bold;\n",
       "}\n",
       "\n",
       ".xr-var-list,\n",
       ".xr-var-item {\n",
       "  display: contents;\n",
       "}\n",
       "\n",
       ".xr-var-item > div,\n",
       ".xr-var-item label,\n",
       ".xr-var-item > .xr-var-name span {\n",
       "  background-color: var(--xr-background-color-row-even);\n",
       "  margin-bottom: 0;\n",
       "}\n",
       "\n",
       ".xr-var-item > .xr-var-name:hover span {\n",
       "  padding-right: 5px;\n",
       "}\n",
       "\n",
       ".xr-var-list > li:nth-child(odd) > div,\n",
       ".xr-var-list > li:nth-child(odd) > label,\n",
       ".xr-var-list > li:nth-child(odd) > .xr-var-name span {\n",
       "  background-color: var(--xr-background-color-row-odd);\n",
       "}\n",
       "\n",
       ".xr-var-name {\n",
       "  grid-column: 1;\n",
       "}\n",
       "\n",
       ".xr-var-dims {\n",
       "  grid-column: 2;\n",
       "}\n",
       "\n",
       ".xr-var-dtype {\n",
       "  grid-column: 3;\n",
       "  text-align: right;\n",
       "  color: var(--xr-font-color2);\n",
       "}\n",
       "\n",
       ".xr-var-preview {\n",
       "  grid-column: 4;\n",
       "}\n",
       "\n",
       ".xr-var-name,\n",
       ".xr-var-dims,\n",
       ".xr-var-dtype,\n",
       ".xr-preview,\n",
       ".xr-attrs dt {\n",
       "  white-space: nowrap;\n",
       "  overflow: hidden;\n",
       "  text-overflow: ellipsis;\n",
       "  padding-right: 10px;\n",
       "}\n",
       "\n",
       ".xr-var-name:hover,\n",
       ".xr-var-dims:hover,\n",
       ".xr-var-dtype:hover,\n",
       ".xr-attrs dt:hover {\n",
       "  overflow: visible;\n",
       "  width: auto;\n",
       "  z-index: 1;\n",
       "}\n",
       "\n",
       ".xr-var-attrs,\n",
       ".xr-var-data {\n",
       "  display: none;\n",
       "  background-color: var(--xr-background-color) !important;\n",
       "  padding-bottom: 5px !important;\n",
       "}\n",
       "\n",
       ".xr-var-attrs-in:checked ~ .xr-var-attrs,\n",
       ".xr-var-data-in:checked ~ .xr-var-data {\n",
       "  display: block;\n",
       "}\n",
       "\n",
       ".xr-var-data > table {\n",
       "  float: right;\n",
       "}\n",
       "\n",
       ".xr-var-name span,\n",
       ".xr-var-data,\n",
       ".xr-attrs {\n",
       "  padding-left: 25px !important;\n",
       "}\n",
       "\n",
       ".xr-attrs,\n",
       ".xr-var-attrs,\n",
       ".xr-var-data {\n",
       "  grid-column: 1 / -1;\n",
       "}\n",
       "\n",
       "dl.xr-attrs {\n",
       "  padding: 0;\n",
       "  margin: 0;\n",
       "  display: grid;\n",
       "  grid-template-columns: 125px auto;\n",
       "}\n",
       "\n",
       ".xr-attrs dt,\n",
       ".xr-attrs dd {\n",
       "  padding: 0;\n",
       "  margin: 0;\n",
       "  float: left;\n",
       "  padding-right: 10px;\n",
       "  width: auto;\n",
       "}\n",
       "\n",
       ".xr-attrs dt {\n",
       "  font-weight: normal;\n",
       "  grid-column: 1;\n",
       "}\n",
       "\n",
       ".xr-attrs dt:hover span {\n",
       "  display: inline-block;\n",
       "  background: var(--xr-background-color);\n",
       "  padding-right: 10px;\n",
       "}\n",
       "\n",
       ".xr-attrs dd {\n",
       "  grid-column: 2;\n",
       "  white-space: pre-wrap;\n",
       "  word-break: break-all;\n",
       "}\n",
       "\n",
       ".xr-icon-database,\n",
       ".xr-icon-file-text2 {\n",
       "  display: inline-block;\n",
       "  vertical-align: middle;\n",
       "  width: 1em;\n",
       "  height: 1.5em !important;\n",
       "  stroke-width: 0;\n",
       "  stroke: currentColor;\n",
       "  fill: currentColor;\n",
       "}\n",
       "</style><pre class='xr-text-repr-fallback'>&lt;xarray.MCDS&gt;\n",
       "Dimensions:       (cell: 100000, gene: 45768)\n",
       "Coordinates:\n",
       "  * cell          (cell) &lt;U21 &#x27;SM-GE4RR_S339_E1-50&#x27; ... &#x27;SM-GE5OD_S223_E1-50&#x27;\n",
       "  * gene          (gene) &lt;U28 &#x27;0610005C13Rik&#x27; &#x27;0610006L08Rik&#x27; ... &#x27;n-R5s149&#x27;\n",
       "    gene_count    (cell) int64 8070 10279 9587 10946 ... 11637 11640 11620 10677\n",
       "    read_count    (cell) uint64 626881 573388 586259 ... 451893 595379 661370\n",
       "Data variables:\n",
       "    gene_da       (cell, gene) uint32 dask.array&lt;chunksize=(1000, 45768), meta=np.ndarray&gt;\n",
       "    gene_da_exon  (cell, gene) uint32 dask.array&lt;chunksize=(1000, 45768), meta=np.ndarray&gt;\n",
       "Attributes:\n",
       "    obs_dim:  cell\n",
       "    var_dim:  gene</pre><div class='xr-wrap' style='display:none'><div class='xr-header'><div class='xr-obj-type'>xarray.MCDS</div></div><ul class='xr-sections'><li class='xr-section-item'><input id='section-34fbdf4c-ca62-49c7-91ef-2b38c5d224cf' class='xr-section-summary-in' type='checkbox' disabled ><label for='section-34fbdf4c-ca62-49c7-91ef-2b38c5d224cf' class='xr-section-summary'  title='Expand/collapse section'>Dimensions:</label><div class='xr-section-inline-details'><ul class='xr-dim-list'><li><span class='xr-has-index'>cell</span>: 100000</li><li><span class='xr-has-index'>gene</span>: 45768</li></ul></div><div class='xr-section-details'></div></li><li class='xr-section-item'><input id='section-ff5e88f4-5fbf-4fda-b6c6-887435b81424' class='xr-section-summary-in' type='checkbox'  checked><label for='section-ff5e88f4-5fbf-4fda-b6c6-887435b81424' class='xr-section-summary' >Coordinates: <span>(4)</span></label><div class='xr-section-inline-details'></div><div class='xr-section-details'><ul class='xr-var-list'><li class='xr-var-item'><div class='xr-var-name'><span class='xr-has-index'>cell</span></div><div class='xr-var-dims'>(cell)</div><div class='xr-var-dtype'>&lt;U21</div><div class='xr-var-preview xr-preview'>&#x27;SM-GE4RR_S339_E1-50&#x27; ... &#x27;SM-GE...</div><input id='attrs-f5779188-477e-4979-9ca1-b5e15971cacc' class='xr-var-attrs-in' type='checkbox' disabled><label for='attrs-f5779188-477e-4979-9ca1-b5e15971cacc' title='Show/Hide attributes'><svg class='icon xr-icon-file-text2'><use xlink:href='#icon-file-text2'></use></svg></label><input id='data-a5a3a35d-4f50-4a6f-acdd-97c19aea33ee' class='xr-var-data-in' type='checkbox'><label for='data-a5a3a35d-4f50-4a6f-acdd-97c19aea33ee' title='Show/Hide data repr'><svg class='icon xr-icon-database'><use xlink:href='#icon-database'></use></svg></label><div class='xr-var-attrs'><dl class='xr-attrs'></dl></div><div class='xr-var-data'><pre>array([&#x27;SM-GE4RR_S339_E1-50&#x27;, &#x27;SM-GE5NY_S003_E1-50&#x27;, &#x27;SM-GE5NY_S121_E1-50&#x27;,\n",
       "       ..., &#x27;SM-GE5OL_S127_E1-50&#x27;, &#x27;SM-GE5OL_S229_E1-50&#x27;,\n",
       "       &#x27;SM-GE5OD_S223_E1-50&#x27;], dtype=&#x27;&lt;U21&#x27;)</pre></div></li><li class='xr-var-item'><div class='xr-var-name'><span class='xr-has-index'>gene</span></div><div class='xr-var-dims'>(gene)</div><div class='xr-var-dtype'>&lt;U28</div><div class='xr-var-preview xr-preview'>&#x27;0610005C13Rik&#x27; ... &#x27;n-R5s149&#x27;</div><input id='attrs-ed116a63-7f42-479f-aae9-f49f5519c967' class='xr-var-attrs-in' type='checkbox' disabled><label for='attrs-ed116a63-7f42-479f-aae9-f49f5519c967' title='Show/Hide attributes'><svg class='icon xr-icon-file-text2'><use xlink:href='#icon-file-text2'></use></svg></label><input id='data-a1bc9325-87a6-43a6-a084-39aafc9e17af' class='xr-var-data-in' type='checkbox'><label for='data-a1bc9325-87a6-43a6-a084-39aafc9e17af' title='Show/Hide data repr'><svg class='icon xr-icon-database'><use xlink:href='#icon-database'></use></svg></label><div class='xr-var-attrs'><dl class='xr-attrs'></dl></div><div class='xr-var-data'><pre>array([&#x27;0610005C13Rik&#x27;, &#x27;0610006L08Rik&#x27;, &#x27;0610007P14Rik&#x27;, ..., &#x27;n-R5s144&#x27;,\n",
       "       &#x27;n-R5s146&#x27;, &#x27;n-R5s149&#x27;], dtype=&#x27;&lt;U28&#x27;)</pre></div></li><li class='xr-var-item'><div class='xr-var-name'><span>gene_count</span></div><div class='xr-var-dims'>(cell)</div><div class='xr-var-dtype'>int64</div><div class='xr-var-preview xr-preview'>8070 10279 9587 ... 11620 10677</div><input id='attrs-8e7e9576-b165-4972-84ef-9da4d9f8b306' class='xr-var-attrs-in' type='checkbox' disabled><label for='attrs-8e7e9576-b165-4972-84ef-9da4d9f8b306' title='Show/Hide attributes'><svg class='icon xr-icon-file-text2'><use xlink:href='#icon-file-text2'></use></svg></label><input id='data-c54b6018-dd3a-430f-aa5c-7dfa0a104122' class='xr-var-data-in' type='checkbox'><label for='data-c54b6018-dd3a-430f-aa5c-7dfa0a104122' title='Show/Hide data repr'><svg class='icon xr-icon-database'><use xlink:href='#icon-database'></use></svg></label><div class='xr-var-attrs'><dl class='xr-attrs'></dl></div><div class='xr-var-data'><pre>array([ 8070, 10279,  9587, ..., 11640, 11620, 10677])</pre></div></li><li class='xr-var-item'><div class='xr-var-name'><span>read_count</span></div><div class='xr-var-dims'>(cell)</div><div class='xr-var-dtype'>uint64</div><div class='xr-var-preview xr-preview'>626881 573388 ... 595379 661370</div><input id='attrs-2993efcf-6486-4030-a261-1bdd829e59bc' class='xr-var-attrs-in' type='checkbox' disabled><label for='attrs-2993efcf-6486-4030-a261-1bdd829e59bc' title='Show/Hide attributes'><svg class='icon xr-icon-file-text2'><use xlink:href='#icon-file-text2'></use></svg></label><input id='data-4b332f1e-e8b5-4a36-b5ae-06b0316c02bd' class='xr-var-data-in' type='checkbox'><label for='data-4b332f1e-e8b5-4a36-b5ae-06b0316c02bd' title='Show/Hide data repr'><svg class='icon xr-icon-database'><use xlink:href='#icon-database'></use></svg></label><div class='xr-var-attrs'><dl class='xr-attrs'></dl></div><div class='xr-var-data'><pre>array([626881, 573388, 586259, ..., 451893, 595379, 661370], dtype=uint64)</pre></div></li></ul></div></li><li class='xr-section-item'><input id='section-47f425f4-ca87-4055-b287-7d572841ee9b' class='xr-section-summary-in' type='checkbox'  checked><label for='section-47f425f4-ca87-4055-b287-7d572841ee9b' class='xr-section-summary' >Data variables: <span>(2)</span></label><div class='xr-section-inline-details'></div><div class='xr-section-details'><ul class='xr-var-list'><li class='xr-var-item'><div class='xr-var-name'><span>gene_da</span></div><div class='xr-var-dims'>(cell, gene)</div><div class='xr-var-dtype'>uint32</div><div class='xr-var-preview xr-preview'>dask.array&lt;chunksize=(1000, 45768), meta=np.ndarray&gt;</div><input id='attrs-fe86d026-4370-4898-b819-a7495988ba1d' class='xr-var-attrs-in' type='checkbox' disabled><label for='attrs-fe86d026-4370-4898-b819-a7495988ba1d' title='Show/Hide attributes'><svg class='icon xr-icon-file-text2'><use xlink:href='#icon-file-text2'></use></svg></label><input id='data-e630faac-25e4-4b92-b37c-753dd657e8fb' class='xr-var-data-in' type='checkbox'><label for='data-e630faac-25e4-4b92-b37c-753dd657e8fb' title='Show/Hide data repr'><svg class='icon xr-icon-database'><use xlink:href='#icon-database'></use></svg></label><div class='xr-var-attrs'><dl class='xr-attrs'></dl></div><div class='xr-var-data'><table>\n",
       "    <tr>\n",
       "        <td>\n",
       "            <table>\n",
       "                <thead>\n",
       "                    <tr>\n",
       "                        <td> </td>\n",
       "                        <th> Array </th>\n",
       "                        <th> Chunk </th>\n",
       "                    </tr>\n",
       "                </thead>\n",
       "                <tbody>\n",
       "                    \n",
       "                    <tr>\n",
       "                        <th> Bytes </th>\n",
       "                        <td> 17.05 GiB </td>\n",
       "                        <td> 174.59 MiB </td>\n",
       "                    </tr>\n",
       "                    \n",
       "                    <tr>\n",
       "                        <th> Shape </th>\n",
       "                        <td> (100000, 45768) </td>\n",
       "                        <td> (1000, 45768) </td>\n",
       "                    </tr>\n",
       "                    <tr>\n",
       "                        <th> Count </th>\n",
       "                        <td> 101 Tasks </td>\n",
       "                        <td> 100 Chunks </td>\n",
       "                    </tr>\n",
       "                    <tr>\n",
       "                    <th> Type </th>\n",
       "                    <td> uint32 </td>\n",
       "                    <td> numpy.ndarray </td>\n",
       "                    </tr>\n",
       "                </tbody>\n",
       "            </table>\n",
       "        </td>\n",
       "        <td>\n",
       "        <svg width=\"104\" height=\"170\" style=\"stroke:rgb(0,0,0);stroke-width:1\" >\n",
       "\n",
       "  <!-- Horizontal lines -->\n",
       "  <line x1=\"0\" y1=\"0\" x2=\"54\" y2=\"0\" style=\"stroke-width:2\" />\n",
       "  <line x1=\"0\" y1=\"6\" x2=\"54\" y2=\"6\" />\n",
       "  <line x1=\"0\" y1=\"12\" x2=\"54\" y2=\"12\" />\n",
       "  <line x1=\"0\" y1=\"18\" x2=\"54\" y2=\"18\" />\n",
       "  <line x1=\"0\" y1=\"25\" x2=\"54\" y2=\"25\" />\n",
       "  <line x1=\"0\" y1=\"31\" x2=\"54\" y2=\"31\" />\n",
       "  <line x1=\"0\" y1=\"37\" x2=\"54\" y2=\"37\" />\n",
       "  <line x1=\"0\" y1=\"43\" x2=\"54\" y2=\"43\" />\n",
       "  <line x1=\"0\" y1=\"50\" x2=\"54\" y2=\"50\" />\n",
       "  <line x1=\"0\" y1=\"56\" x2=\"54\" y2=\"56\" />\n",
       "  <line x1=\"0\" y1=\"62\" x2=\"54\" y2=\"62\" />\n",
       "  <line x1=\"0\" y1=\"68\" x2=\"54\" y2=\"68\" />\n",
       "  <line x1=\"0\" y1=\"75\" x2=\"54\" y2=\"75\" />\n",
       "  <line x1=\"0\" y1=\"81\" x2=\"54\" y2=\"81\" />\n",
       "  <line x1=\"0\" y1=\"87\" x2=\"54\" y2=\"87\" />\n",
       "  <line x1=\"0\" y1=\"93\" x2=\"54\" y2=\"93\" />\n",
       "  <line x1=\"0\" y1=\"100\" x2=\"54\" y2=\"100\" />\n",
       "  <line x1=\"0\" y1=\"106\" x2=\"54\" y2=\"106\" />\n",
       "  <line x1=\"0\" y1=\"112\" x2=\"54\" y2=\"112\" />\n",
       "  <line x1=\"0\" y1=\"120\" x2=\"54\" y2=\"120\" style=\"stroke-width:2\" />\n",
       "\n",
       "  <!-- Vertical lines -->\n",
       "  <line x1=\"0\" y1=\"0\" x2=\"0\" y2=\"120\" style=\"stroke-width:2\" />\n",
       "  <line x1=\"54\" y1=\"0\" x2=\"54\" y2=\"120\" style=\"stroke-width:2\" />\n",
       "\n",
       "  <!-- Colored Rectangle -->\n",
       "  <polygon points=\"0.0,0.0 54.9216,0.0 54.9216,120.0 0.0,120.0\" style=\"fill:#8B4903A0;stroke-width:0\"/>\n",
       "\n",
       "  <!-- Text -->\n",
       "  <text x=\"27.460800\" y=\"140.000000\" font-size=\"1.0rem\" font-weight=\"100\" text-anchor=\"middle\" >45768</text>\n",
       "  <text x=\"74.921600\" y=\"60.000000\" font-size=\"1.0rem\" font-weight=\"100\" text-anchor=\"middle\" transform=\"rotate(-90,74.921600,60.000000)\">100000</text>\n",
       "</svg>\n",
       "        </td>\n",
       "    </tr>\n",
       "</table></div></li><li class='xr-var-item'><div class='xr-var-name'><span>gene_da_exon</span></div><div class='xr-var-dims'>(cell, gene)</div><div class='xr-var-dtype'>uint32</div><div class='xr-var-preview xr-preview'>dask.array&lt;chunksize=(1000, 45768), meta=np.ndarray&gt;</div><input id='attrs-ff59891a-1456-4778-9107-361e2e6c87fe' class='xr-var-attrs-in' type='checkbox' disabled><label for='attrs-ff59891a-1456-4778-9107-361e2e6c87fe' title='Show/Hide attributes'><svg class='icon xr-icon-file-text2'><use xlink:href='#icon-file-text2'></use></svg></label><input id='data-b6b98e44-18b3-4428-b535-ac399bb06392' class='xr-var-data-in' type='checkbox'><label for='data-b6b98e44-18b3-4428-b535-ac399bb06392' title='Show/Hide data repr'><svg class='icon xr-icon-database'><use xlink:href='#icon-database'></use></svg></label><div class='xr-var-attrs'><dl class='xr-attrs'></dl></div><div class='xr-var-data'><table>\n",
       "    <tr>\n",
       "        <td>\n",
       "            <table>\n",
       "                <thead>\n",
       "                    <tr>\n",
       "                        <td> </td>\n",
       "                        <th> Array </th>\n",
       "                        <th> Chunk </th>\n",
       "                    </tr>\n",
       "                </thead>\n",
       "                <tbody>\n",
       "                    \n",
       "                    <tr>\n",
       "                        <th> Bytes </th>\n",
       "                        <td> 17.05 GiB </td>\n",
       "                        <td> 174.59 MiB </td>\n",
       "                    </tr>\n",
       "                    \n",
       "                    <tr>\n",
       "                        <th> Shape </th>\n",
       "                        <td> (100000, 45768) </td>\n",
       "                        <td> (1000, 45768) </td>\n",
       "                    </tr>\n",
       "                    <tr>\n",
       "                        <th> Count </th>\n",
       "                        <td> 101 Tasks </td>\n",
       "                        <td> 100 Chunks </td>\n",
       "                    </tr>\n",
       "                    <tr>\n",
       "                    <th> Type </th>\n",
       "                    <td> uint32 </td>\n",
       "                    <td> numpy.ndarray </td>\n",
       "                    </tr>\n",
       "                </tbody>\n",
       "            </table>\n",
       "        </td>\n",
       "        <td>\n",
       "        <svg width=\"104\" height=\"170\" style=\"stroke:rgb(0,0,0);stroke-width:1\" >\n",
       "\n",
       "  <!-- Horizontal lines -->\n",
       "  <line x1=\"0\" y1=\"0\" x2=\"54\" y2=\"0\" style=\"stroke-width:2\" />\n",
       "  <line x1=\"0\" y1=\"6\" x2=\"54\" y2=\"6\" />\n",
       "  <line x1=\"0\" y1=\"12\" x2=\"54\" y2=\"12\" />\n",
       "  <line x1=\"0\" y1=\"18\" x2=\"54\" y2=\"18\" />\n",
       "  <line x1=\"0\" y1=\"25\" x2=\"54\" y2=\"25\" />\n",
       "  <line x1=\"0\" y1=\"31\" x2=\"54\" y2=\"31\" />\n",
       "  <line x1=\"0\" y1=\"37\" x2=\"54\" y2=\"37\" />\n",
       "  <line x1=\"0\" y1=\"43\" x2=\"54\" y2=\"43\" />\n",
       "  <line x1=\"0\" y1=\"50\" x2=\"54\" y2=\"50\" />\n",
       "  <line x1=\"0\" y1=\"56\" x2=\"54\" y2=\"56\" />\n",
       "  <line x1=\"0\" y1=\"62\" x2=\"54\" y2=\"62\" />\n",
       "  <line x1=\"0\" y1=\"68\" x2=\"54\" y2=\"68\" />\n",
       "  <line x1=\"0\" y1=\"75\" x2=\"54\" y2=\"75\" />\n",
       "  <line x1=\"0\" y1=\"81\" x2=\"54\" y2=\"81\" />\n",
       "  <line x1=\"0\" y1=\"87\" x2=\"54\" y2=\"87\" />\n",
       "  <line x1=\"0\" y1=\"93\" x2=\"54\" y2=\"93\" />\n",
       "  <line x1=\"0\" y1=\"100\" x2=\"54\" y2=\"100\" />\n",
       "  <line x1=\"0\" y1=\"106\" x2=\"54\" y2=\"106\" />\n",
       "  <line x1=\"0\" y1=\"112\" x2=\"54\" y2=\"112\" />\n",
       "  <line x1=\"0\" y1=\"120\" x2=\"54\" y2=\"120\" style=\"stroke-width:2\" />\n",
       "\n",
       "  <!-- Vertical lines -->\n",
       "  <line x1=\"0\" y1=\"0\" x2=\"0\" y2=\"120\" style=\"stroke-width:2\" />\n",
       "  <line x1=\"54\" y1=\"0\" x2=\"54\" y2=\"120\" style=\"stroke-width:2\" />\n",
       "\n",
       "  <!-- Colored Rectangle -->\n",
       "  <polygon points=\"0.0,0.0 54.9216,0.0 54.9216,120.0 0.0,120.0\" style=\"fill:#8B4903A0;stroke-width:0\"/>\n",
       "\n",
       "  <!-- Text -->\n",
       "  <text x=\"27.460800\" y=\"140.000000\" font-size=\"1.0rem\" font-weight=\"100\" text-anchor=\"middle\" >45768</text>\n",
       "  <text x=\"74.921600\" y=\"60.000000\" font-size=\"1.0rem\" font-weight=\"100\" text-anchor=\"middle\" transform=\"rotate(-90,74.921600,60.000000)\">100000</text>\n",
       "</svg>\n",
       "        </td>\n",
       "    </tr>\n",
       "</table></div></li></ul></div></li><li class='xr-section-item'><input id='section-b1264cfc-de21-4c6d-89ca-fbeb905a93c9' class='xr-section-summary-in' type='checkbox'  checked><label for='section-b1264cfc-de21-4c6d-89ca-fbeb905a93c9' class='xr-section-summary' >Attributes: <span>(2)</span></label><div class='xr-section-inline-details'></div><div class='xr-section-details'><dl class='xr-attrs'><dt><span>obs_dim :</span></dt><dd>cell</dd><dt><span>var_dim :</span></dt><dd>gene</dd></dl></div></li></ul></div></div>"
      ],
      "text/plain": [
       "<xarray.MCDS>\n",
       "Dimensions:       (cell: 100000, gene: 45768)\n",
       "Coordinates:\n",
       "  * cell          (cell) <U21 'SM-GE4RR_S339_E1-50' ... 'SM-GE5OD_S223_E1-50'\n",
       "  * gene          (gene) <U28 '0610005C13Rik' '0610006L08Rik' ... 'n-R5s149'\n",
       "    gene_count    (cell) int64 8070 10279 9587 10946 ... 11637 11640 11620 10677\n",
       "    read_count    (cell) uint64 626881 573388 586259 ... 451893 595379 661370\n",
       "Data variables:\n",
       "    gene_da       (cell, gene) uint32 dask.array<chunksize=(1000, 45768), meta=np.ndarray>\n",
       "    gene_da_exon  (cell, gene) uint32 dask.array<chunksize=(1000, 45768), meta=np.ndarray>\n",
       "Attributes:\n",
       "    obs_dim:  cell\n",
       "    var_dim:  gene"
      ]
     },
     "execution_count": 6,
     "metadata": {},
     "output_type": "execute_result"
    }
   ],
   "source": [
    "rna_ds"
   ]
  },
  {
   "cell_type": "code",
   "execution_count": 7,
   "id": "60fba131-4f4b-4bd4-9497-fff16fdca22f",
   "metadata": {
    "tags": []
   },
   "outputs": [],
   "source": [
    "merfish = anndata.read_h5ad('./adata/merfish_input.h5ad')"
   ]
  },
  {
   "cell_type": "code",
   "execution_count": 8,
   "id": "d0441ba2",
   "metadata": {
    "ExecuteTime": {
     "end_time": "2022-06-20T20:23:43.009644Z",
     "start_time": "2022-06-20T20:23:42.989438Z"
    },
    "papermill": {
     "duration": 0.036998,
     "end_time": "2022-06-20T23:02:50.492751",
     "exception": false,
     "start_time": "2022-06-20T23:02:50.455753",
     "status": "completed"
    },
    "tags": []
   },
   "outputs": [
    {
     "data": {
      "text/plain": [
       "483"
      ]
     },
     "execution_count": 8,
     "metadata": {},
     "output_type": "execute_result"
    }
   ],
   "source": [
    "#gene_id_not_nan = ~rna_ds.get_index('gene').map(gene_map).isna()\n",
    "is_merfish_probe = rna_ds.get_index('gene').isin(merfish.var_names)\n",
    "is_merfish_probe.sum()"
   ]
  },
  {
   "cell_type": "code",
   "execution_count": 9,
   "id": "e60a3e5f",
   "metadata": {
    "ExecuteTime": {
     "end_time": "2022-06-20T20:24:19.065542Z",
     "start_time": "2022-06-20T20:23:43.010837Z"
    },
    "papermill": {
     "duration": 226.745375,
     "end_time": "2022-06-20T23:06:37.252327",
     "exception": false,
     "start_time": "2022-06-20T23:02:50.506952",
     "status": "completed"
    },
    "pycharm": {
     "name": "#%%\n"
    },
    "tags": []
   },
   "outputs": [
    {
     "name": "stdout",
     "output_type": "stream",
     "text": [
      "Loading chunk 0-10000/100000\n",
      "Loading chunk 10000-20000/100000\n",
      "Loading chunk 20000-30000/100000\n",
      "Loading chunk 30000-40000/100000\n",
      "Loading chunk 40000-50000/100000\n",
      "Loading chunk 50000-60000/100000\n",
      "Loading chunk 60000-70000/100000\n",
      "Loading chunk 70000-80000/100000\n",
      "Loading chunk 80000-90000/100000\n",
      "Loading chunk 90000-100000/100000\n"
     ]
    }
   ],
   "source": [
    "adata = rna_ds.get_count_adata(da_name='gene_da', use_vars=is_merfish_probe)"
   ]
  },
  {
   "cell_type": "code",
   "execution_count": 10,
   "id": "5618ccbc-cbe9-4aa5-aed2-bd3abf9a2ea5",
   "metadata": {
    "tags": []
   },
   "outputs": [
    {
     "data": {
      "text/plain": [
       "AnnData object with n_obs × n_vars = 100000 × 483\n",
       "    obs: 'count', 'read_count'"
      ]
     },
     "execution_count": 10,
     "metadata": {},
     "output_type": "execute_result"
    }
   ],
   "source": [
    "adata"
   ]
  },
  {
   "cell_type": "code",
   "execution_count": 11,
   "id": "3cbfd8a2",
   "metadata": {
    "ExecuteTime": {
     "end_time": "2022-06-20T20:24:19.299646Z",
     "start_time": "2022-06-20T20:24:19.068285Z"
    },
    "papermill": {
     "duration": 0.248546,
     "end_time": "2022-06-20T23:06:37.514845",
     "exception": false,
     "start_time": "2022-06-20T23:06:37.266299",
     "status": "completed"
    },
    "tags": []
   },
   "outputs": [],
   "source": [
    "# cleanup gene metadata of RNA\n",
    "assert adata.var_names.duplicated().sum() == 0\n",
    "\n",
    "# gene_meta = mm10.get_gene_metadata()\n",
    "# for col in ['chrom', 'start', 'end']:\n",
    "#     adata.var[col] = gene_meta[col]"
   ]
  },
  {
   "cell_type": "markdown",
   "id": "fedf318d",
   "metadata": {
    "papermill": {
     "duration": 0.013365,
     "end_time": "2022-06-20T23:06:37.541606",
     "exception": false,
     "start_time": "2022-06-20T23:06:37.528241",
     "status": "completed"
    },
    "pycharm": {
     "name": "#%% md\n"
    },
    "tags": []
   },
   "source": [
    "## Basic Feature Filtering"
   ]
  },
  {
   "cell_type": "code",
   "execution_count": 12,
   "id": "820d0a28",
   "metadata": {
    "ExecuteTime": {
     "end_time": "2022-06-20T20:24:19.303456Z",
     "start_time": "2022-06-20T20:24:19.301269Z"
    },
    "papermill": {
     "duration": 0.017287,
     "end_time": "2022-06-20T23:06:37.572173",
     "exception": false,
     "start_time": "2022-06-20T23:06:37.554886",
     "status": "completed"
    },
    "pycharm": {
     "name": "#%%\n"
    },
    "tags": []
   },
   "outputs": [],
   "source": [
    "# no need to do this, already did in mC\n",
    "\n",
    "# chroms = [\n",
    "#     'chr1', 'chr2', 'chr3', 'chr4', 'chr5', 'chr6', 'chr7', 'chr8', 'chr9',\n",
    "#     'chr10', 'chr11', 'chr12', 'chr13', 'chr14', 'chr15', 'chr16', 'chr17',\n",
    "#     'chr18', 'chr19'\n",
    "# ]\n",
    "#\n",
    "# remove_chromosomes(adata, include_chromosomes=chroms)\n",
    "# remove_black_list_region(adata, black_list_path=mm10.ENCODE_BLACKLIST_PATH)"
   ]
  },
  {
   "cell_type": "code",
   "execution_count": 13,
   "id": "c927181e",
   "metadata": {
    "ExecuteTime": {
     "end_time": "2022-06-20T20:24:21.401905Z",
     "start_time": "2022-06-20T20:24:19.304799Z"
    },
    "papermill": {
     "duration": 26.529335,
     "end_time": "2022-06-20T23:07:04.114565",
     "exception": false,
     "start_time": "2022-06-20T23:06:37.585230",
     "status": "completed"
    },
    "pycharm": {
     "name": "#%%\n"
    },
    "tags": []
   },
   "outputs": [
    {
     "name": "stdout",
     "output_type": "stream",
     "text": [
      "483 regions remained.\n"
     ]
    }
   ],
   "source": [
    "if adata.n_obs > n_cell:\n",
    "    filter_regions(adata, n_cell=n_cell, zscore_abs_cutoff=None)"
   ]
  },
  {
   "cell_type": "code",
   "execution_count": 14,
   "id": "6dc985e3",
   "metadata": {
    "ExecuteTime": {
     "end_time": "2022-06-20T20:24:26.555918Z",
     "start_time": "2022-06-20T20:24:21.403426Z"
    },
    "papermill": {
     "duration": 70.074254,
     "end_time": "2022-06-20T23:08:14.203190",
     "exception": false,
     "start_time": "2022-06-20T23:07:04.128936",
     "status": "completed"
    },
    "pycharm": {
     "name": "#%%\n"
    },
    "tags": []
   },
   "outputs": [],
   "source": [
    "sc.pp.normalize_per_cell(adata)\n",
    "sc.pp.log1p(adata)\n",
    "sc.pp.scale(adata)"
   ]
  },
  {
   "cell_type": "code",
   "execution_count": 15,
   "id": "39d36e18",
   "metadata": {
    "ExecuteTime": {
     "end_time": "2022-06-20T20:24:27.558232Z",
     "start_time": "2022-06-20T20:24:26.558715Z"
    },
    "papermill": {
     "duration": 8.719994,
     "end_time": "2022-06-20T23:08:22.942061",
     "exception": false,
     "start_time": "2022-06-20T23:08:14.222067",
     "status": "completed"
    },
    "pycharm": {
     "name": "#%%\n"
    },
    "tags": []
   },
   "outputs": [],
   "source": [
    "adata.write_h5ad('./adata/rna_input.h5ad')"
   ]
  },
  {
   "cell_type": "code",
   "execution_count": 16,
   "id": "34934d6a",
   "metadata": {
    "ExecuteTime": {
     "end_time": "2022-06-20T20:24:27.563118Z",
     "start_time": "2022-06-20T20:24:27.559561Z"
    },
    "papermill": {
     "duration": 0.031052,
     "end_time": "2022-06-20T23:08:22.987899",
     "exception": false,
     "start_time": "2022-06-20T23:08:22.956847",
     "status": "completed"
    },
    "pycharm": {
     "name": "#%%\n"
    },
    "tags": []
   },
   "outputs": [
    {
     "data": {
      "text/plain": [
       "AnnData object with n_obs × n_vars = 100000 × 483\n",
       "    obs: 'count', 'read_count', 'n_counts'\n",
       "    var: 'mean', 'std'\n",
       "    uns: 'log1p'"
      ]
     },
     "execution_count": 16,
     "metadata": {},
     "output_type": "execute_result"
    }
   ],
   "source": [
    "adata"
   ]
  },
  {
   "cell_type": "code",
   "execution_count": null,
   "id": "8b0093c4",
   "metadata": {
    "papermill": {
     "duration": 0.025746,
     "end_time": "2022-06-20T23:08:23.030668",
     "exception": false,
     "start_time": "2022-06-20T23:08:23.004922",
     "status": "completed"
    },
    "pycharm": {
     "name": "#%%\n"
    },
    "tags": []
   },
   "outputs": [],
   "source": []
  },
  {
   "cell_type": "code",
   "execution_count": null,
   "id": "576a7480",
   "metadata": {
    "papermill": {
     "duration": 0.021872,
     "end_time": "2022-06-20T23:08:23.075515",
     "exception": false,
     "start_time": "2022-06-20T23:08:23.053643",
     "status": "completed"
    },
    "pycharm": {
     "name": "#%%\n"
    },
    "tags": []
   },
   "outputs": [],
   "source": []
  },
  {
   "cell_type": "code",
   "execution_count": null,
   "id": "6891988a",
   "metadata": {
    "papermill": {
     "duration": 0.022425,
     "end_time": "2022-06-20T23:08:23.120217",
     "exception": false,
     "start_time": "2022-06-20T23:08:23.097792",
     "status": "completed"
    },
    "pycharm": {
     "name": "#%%\n"
    },
    "tags": []
   },
   "outputs": [],
   "source": []
  },
  {
   "cell_type": "code",
   "execution_count": null,
   "id": "b3a82800",
   "metadata": {
    "papermill": {
     "duration": 0.025371,
     "end_time": "2022-06-20T23:08:23.180687",
     "exception": false,
     "start_time": "2022-06-20T23:08:23.155316",
     "status": "completed"
    },
    "pycharm": {
     "name": "#%%\n"
    },
    "tags": []
   },
   "outputs": [],
   "source": []
  }
 ],
 "metadata": {
  "celltoolbar": "Tags",
  "hide_input": false,
  "kernelspec": {
   "display_name": "Python 3 (ipykernel)",
   "language": "python",
   "name": "python3"
  },
  "language_info": {
   "codemirror_mode": {
    "name": "ipython",
    "version": 3
   },
   "file_extension": ".py",
   "mimetype": "text/x-python",
   "name": "python",
   "nbconvert_exporter": "python",
   "pygments_lexer": "ipython3",
   "version": "3.7.12"
  },
  "papermill": {
   "default_parameters": {},
   "duration": 341.67794,
   "end_time": "2022-06-20T23:08:26.090770",
   "environment_variables": {},
   "exception": null,
   "input_path": "/home/hanliu/project/cemba/study/Integration/mC_AIBS_SMART_Gene/Template/02.prepare_rna.ipynb",
   "output_path": "Neuron/02.prepare_rna.ipynb",
   "parameters": {},
   "start_time": "2022-06-20T23:02:44.412830",
   "version": "2.3.3"
  },
  "toc": {
   "base_numbering": 1,
   "nav_menu": {},
   "number_sections": true,
   "sideBar": true,
   "skip_h1_title": true,
   "title_cell": "Table of Contents",
   "title_sidebar": "Contents",
   "toc_cell": false,
   "toc_position": {},
   "toc_section_display": true,
   "toc_window_display": true
  }
 },
 "nbformat": 4,
 "nbformat_minor": 5
}
