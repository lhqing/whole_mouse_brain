{
 "cells": [
  {
   "cell_type": "code",
   "execution_count": null,
   "id": "2ae99fb5",
   "metadata": {
    "ExecuteTime": {
     "end_time": "2022-07-06T21:28:32.193336Z",
     "start_time": "2022-07-06T21:28:26.477153Z"
    }
   },
   "outputs": [],
   "source": [
    "import pathlib\n",
    "import numpy as np\n",
    "import pandas as pd\n",
    "import matplotlib.pyplot as plt\n",
    "import seaborn as sns\n",
    "from ALLCools.integration import calculate_diagonal_score\n",
    "\n",
    "from wmb import *"
   ]
  },
  {
   "cell_type": "markdown",
   "id": "c60bfe37",
   "metadata": {},
   "source": [
    "## Parameters"
   ]
  },
  {
   "cell_type": "code",
   "execution_count": null,
   "id": "07c50c6a",
   "metadata": {
    "ExecuteTime": {
     "end_time": "2022-07-06T21:28:32.201463Z",
     "start_time": "2022-07-06T21:28:32.198102Z"
    }
   },
   "outputs": [],
   "source": [
    "level = 'L2'\n",
    "deep_level = 'L4'\n",
    "category_key = 'L3'\n",
    "deep_category_key = 'L4'"
   ]
  },
  {
   "cell_type": "markdown",
   "id": "692e7570",
   "metadata": {},
   "source": [
    "## Load Annot"
   ]
  },
  {
   "cell_type": "code",
   "execution_count": null,
   "id": "d0ffbbd6-f429-477d-b942-1f600bc0c0e9",
   "metadata": {},
   "outputs": [],
   "source": [
    "import anndata\n",
    "adata_merge = anndata.read_h5ad(f'../L1/Neuron/final_with_coords.h5ad')"
   ]
  },
  {
   "cell_type": "code",
   "execution_count": null,
   "id": "e7163fbd-ea95-4221-9b90-10e527f8d585",
   "metadata": {},
   "outputs": [],
   "source": [
    "adata_merge.obs['Modality'].value_counts() "
   ]
  },
  {
   "cell_type": "code",
   "execution_count": null,
   "id": "5ff4e3a8",
   "metadata": {
    "ExecuteTime": {
     "end_time": "2022-07-06T21:28:35.628736Z",
     "start_time": "2022-07-06T21:28:32.204898Z"
    }
   },
   "outputs": [],
   "source": [
    "mc_annot = cemba.get_mc_annot()\n",
    "mc_neurons = ~mc_annot['L1_annot'].isin(\n",
    "    ['ODC', 'OPC', 'ASC', 'MGC', 'CB', 'CBX', 'DG'])\n",
    "mc_annot = mc_annot.sel(cell=mc_neurons)"
   ]
  },
  {
   "cell_type": "code",
   "execution_count": null,
   "id": "f56a23c0",
   "metadata": {
    "ExecuteTime": {
     "end_time": "2022-07-06T21:28:37.033549Z",
     "start_time": "2022-07-06T21:28:35.631936Z"
    }
   },
   "outputs": [],
   "source": [
    "atac_annot = cemba_atac.get_atac_annot()"
   ]
  },
  {
   "cell_type": "code",
   "execution_count": null,
   "id": "b6b7850c-8a72-491d-86db-ebabfad6080c",
   "metadata": {},
   "outputs": [],
   "source": [
    "atac_neurons = ~atac_annot['L2_annot'].isin([\n",
    "    'VPIA', 'VLMC', 'MGL', 'PER', 'VEC', 'RGL', 'ASC', 'EPEN', 'BERG', 'OPC','IOL', 'OGC', 'GRC', 'GRANGL'\n",
    "])\n",
    "\n",
    "# due to inconsistent atac_annot, we use integration group here to select cells\n",
    "atac_inte_group = pd.read_csv('../L1/Neuron/atac_integration_group.csv.gz', index_col=0)\n",
    "\n",
    "atac_annot = atac_annot.sel(cell=atac_inte_group.index)"
   ]
  },
  {
   "cell_type": "code",
   "execution_count": null,
   "id": "89b79fbf",
   "metadata": {
    "ExecuteTime": {
     "end_time": "2022-07-06T21:28:37.070792Z",
     "start_time": "2022-07-06T21:28:37.036254Z"
    }
   },
   "outputs": [],
   "source": [
    "all_mc_cluster = mc_annot[category_key].to_pandas().value_counts().index\n",
    "all_atac_cluster = atac_annot[category_key].to_pandas().value_counts().index"
   ]
  },
  {
   "cell_type": "markdown",
   "id": "17a8c5e3",
   "metadata": {},
   "source": [
    "## Get L1 Confusion"
   ]
  },
  {
   "cell_type": "code",
   "execution_count": null,
   "id": "3fb92a0a",
   "metadata": {
    "ExecuteTime": {
     "end_time": "2022-07-06T21:28:37.078192Z",
     "start_time": "2022-07-06T21:28:37.073421Z"
    }
   },
   "outputs": [],
   "source": [
    "def extend_confusion_matrix(matrix, mc_in_level, mc_out_level, atac_in_level,\n",
    "                            atac_out_level):\n",
    "    \"\"\"Extend confusion matrix from one cluster resolution to the other deeper resolution\"\"\"\n",
    "    mc_in_to_out = pd.Series(mc_annot[mc_in_level],\n",
    "                             index=mc_annot[mc_out_level]).to_dict() #get the L2 and L4 identity for each cell\n",
    "    mc_in_to_out = pd.Series(\n",
    "        {k: v\n",
    "         for k, v in mc_in_to_out.items() if v in matrix.columns}) #some l2 did not go to L4\n",
    "    atac_in_to_out = pd.Series(atac_annot[atac_in_level],\n",
    "                              index=atac_annot[atac_out_level]).to_dict()\n",
    "    atac_in_to_out = pd.Series(\n",
    "        {k: v\n",
    "         for k, v in atac_in_to_out.items() if v in matrix.index})\n",
    "\n",
    "    matrix = matrix.reindex(pd.Series(mc_in_to_out).values,\n",
    "                            axis=1).reindex(pd.Series(atac_in_to_out).values)\n",
    "    matrix.columns = mc_in_to_out.index\n",
    "    matrix.index = atac_in_to_out.index\n",
    "    return matrix"
   ]
  },
  {
   "cell_type": "code",
   "execution_count": null,
   "id": "caf2bd89",
   "metadata": {
    "ExecuteTime": {
     "end_time": "2022-07-06T21:28:37.426757Z",
     "start_time": "2022-07-06T21:28:37.080434Z"
    }
   },
   "outputs": [],
   "source": [
    "l1_confusion_matrix = pd.read_hdf(f'../L1/Neuron/L2.overlap_score.hdf')\n",
    "\n",
    "l1_confusion_matrix = extend_confusion_matrix(l1_confusion_matrix,\n",
    "                                              mc_in_level='L2',\n",
    "                                              mc_out_level='L4',\n",
    "                                              atac_in_level='L2',\n",
    "                                              atac_out_level='L4')"
   ]
  },
  {
   "cell_type": "code",
   "execution_count": null,
   "id": "b5150b07",
   "metadata": {
    "ExecuteTime": {
     "end_time": "2022-07-06T21:28:37.777577Z",
     "start_time": "2022-07-06T21:28:37.429703Z"
    }
   },
   "outputs": [],
   "source": [
    "l1_confusion_matrix.to_hdf('L1_confusion_matrx.L4_clusters.hdf', key='data')"
   ]
  },
  {
   "cell_type": "code",
   "execution_count": null,
   "id": "ca30a3de-f0a8-4c80-be8c-ee98bdae9f5c",
   "metadata": {},
   "outputs": [],
   "source": [
    "assert l1_confusion_matrix.isna().values.sum() == 0"
   ]
  },
  {
   "cell_type": "code",
   "execution_count": null,
   "id": "ae7e093d-136f-4ed1-91e5-e71633d73f3a",
   "metadata": {},
   "outputs": [],
   "source": [
    "l1_confusion_matrix"
   ]
  },
  {
   "cell_type": "markdown",
   "id": "9d824698",
   "metadata": {},
   "source": [
    "## Get Inte L2 Confusion"
   ]
  },
  {
   "cell_type": "code",
   "execution_count": null,
   "id": "39bdf0e1",
   "metadata": {
    "ExecuteTime": {
     "end_time": "2022-07-06T21:28:37.783350Z",
     "start_time": "2022-07-06T21:28:37.780282Z"
    }
   },
   "outputs": [],
   "source": [
    "def get_inte_groups(path, annot, category):\n",
    "    \"\"\"read cell [mc|atac]_integration_group.csv.gz, return cluster\"\"\"\n",
    "    groups = pd.read_csv(path, index_col=0).squeeze()  # cell to group\n",
    "    groups.index = groups.index.map(\n",
    "        annot[category].to_pandas())  # category to group\n",
    "    groups = pd.Series(groups.to_dict())  # deduplicates\n",
    "    return groups #each category ro integrup"
   ]
  },
  {
   "cell_type": "code",
   "execution_count": null,
   "id": "de366df5-08a6-4ff4-93b5-c9e807b210c4",
   "metadata": {},
   "outputs": [],
   "source": [
    "for path in pathlib.Path(f'../Neuron/{level}').glob(\n",
    "        f'InteGroup*/{category_key}.overlap_score.hdf'):\n",
    "    group = path.parent.name\n",
    "   "
   ]
  },
  {
   "cell_type": "code",
   "execution_count": null,
   "id": "98197670",
   "metadata": {
    "ExecuteTime": {
     "end_time": "2022-07-06T21:28:38.808412Z",
     "start_time": "2022-07-06T21:28:37.785688Z"
    }
   },
   "outputs": [],
   "source": [
    "confusion_matrix_dict = {}\n",
    "row_groups = {}\n",
    "col_groups = {}\n",
    "\n",
    "for path in pathlib.Path(f'../{level}/Neuron').glob(\n",
    "        f'InteGroup*/{category_key}.overlap_score.hdf'):\n",
    "    group = path.parent.name\n",
    "\n",
    "    # integration group\n",
    "    # from leiden clustering on confusion matrix\n",
    "    # may be manually merged in 07.ipynb\n",
    "    row_group = get_inte_groups(path.parent / 'atac_integration_group.csv.gz',\n",
    "                                annot=atac_annot,\n",
    "                                category=category_key)\n",
    "    col_group = get_inte_groups(path.parent / 'mc_integration_group.csv.gz',\n",
    "                                annot=mc_annot,\n",
    "                                category=category_key)\n",
    "    row_groups[group] = row_group\n",
    "    col_groups[group] = col_group\n",
    "\n",
    "    # confusion matrix\n",
    "    df = pd.read_hdf(path)\n",
    "    diag_score = calculate_diagonal_score(df,\n",
    "                                          col_group=col_group,\n",
    "                                          row_group=row_group) #mean score\n",
    "    print(f'{group} diag score: {diag_score:.2f}')\n",
    "\n",
    "    df.index.name = f'atac.{category_key}'\n",
    "    df.columns.name = f'mC.{category_key}'\n",
    "    # reorder row and col based on inte groups\n",
    "    df = df.loc[row_group.sort_values().index,\n",
    "                col_group.sort_values().index].copy()\n",
    "    confusion_matrix_dict[group] = df\n",
    "\n",
    "all_confusion = pd.concat(confusion_matrix_dict.values())"
   ]
  },
  {
   "cell_type": "code",
   "execution_count": null,
   "id": "dd931946",
   "metadata": {
    "ExecuteTime": {
     "end_time": "2022-07-06T21:28:38.844083Z",
     "start_time": "2022-07-06T21:28:38.811081Z"
    }
   },
   "outputs": [],
   "source": [
    "all_confusion"
   ]
  },
  {
   "cell_type": "code",
   "execution_count": null,
   "id": "55c44227",
   "metadata": {
    "ExecuteTime": {
     "end_time": "2022-07-06T21:28:39.055733Z",
     "start_time": "2022-07-06T21:28:38.849117Z"
    }
   },
   "outputs": [],
   "source": [
    "all_confusion.to_hdf('L1_confusion_matrx.L3_clusters.hdf', key='data')"
   ]
  },
  {
   "cell_type": "code",
   "execution_count": null,
   "id": "eb5f8dfb",
   "metadata": {
    "ExecuteTime": {
     "end_time": "2022-07-06T21:28:39.924748Z",
     "start_time": "2022-07-06T21:28:39.058203Z"
    }
   },
   "outputs": [],
   "source": [
    "all_confusion_l4 = extend_confusion_matrix(all_confusion,\n",
    "                                           mc_in_level='L3',\n",
    "                                           mc_out_level='L4',\n",
    "                                           atac_in_level='L3',\n",
    "                                           atac_out_level='L4')\n",
    "all_confusion_l4.to_hdf('L2_confusion_matrx.L4_clusters.hdf', key='data')"
   ]
  },
  {
   "cell_type": "markdown",
   "id": "cd7e9faa",
   "metadata": {
    "ExecuteTime": {
     "end_time": "2022-06-30T23:34:47.791366Z",
     "start_time": "2022-06-30T23:34:47.636357Z"
    }
   },
   "source": [
    "## Check Missing Clusters"
   ]
  },
  {
   "cell_type": "code",
   "execution_count": null,
   "id": "794674f7",
   "metadata": {
    "ExecuteTime": {
     "end_time": "2022-07-06T21:28:39.932519Z",
     "start_time": "2022-07-06T21:28:39.928873Z"
    }
   },
   "outputs": [],
   "source": [
    "assert all_mc_cluster.size == all_confusion.columns.size\n",
    "assert all_atac_cluster.size == all_confusion.index.size\n",
    "\n",
    "assert all_confusion.index.duplicated().sum() == 0\n",
    "assert all_confusion.columns.duplicated().sum() == 0"
   ]
  },
  {
   "cell_type": "markdown",
   "id": "b2d45070",
   "metadata": {},
   "source": [
    "## Get L3/4 Integration\n",
    "\n",
    "### Get atac L4 to Inte L2"
   ]
  },
  {
   "cell_type": "code",
   "execution_count": null,
   "id": "5ded8c2e",
   "metadata": {
    "ExecuteTime": {
     "end_time": "2022-07-06T21:28:39.942450Z",
     "start_time": "2022-07-06T21:28:39.934625Z"
    }
   },
   "outputs": [],
   "source": [
    "l3_group_names = []\n",
    "for l2_group, row_group in row_groups.items():\n",
    "    l3_group_name = l2_group + '_' + row_group.astype(str)\n",
    "    l3_group_names.append(l3_group_name)\n",
    "atac_l3_to_inte_l2 = pd.concat(l3_group_names)"
   ]
  },
  {
   "cell_type": "code",
   "execution_count": null,
   "id": "c3364134",
   "metadata": {
    "ExecuteTime": {
     "end_time": "2022-07-06T21:28:40.035225Z",
     "start_time": "2022-07-06T21:28:39.944439Z"
    }
   },
   "outputs": [],
   "source": [
    "atac_l4_to_atac_l3 = pd.DataFrame(atac_annot['L3'],\n",
    "                                index=atac_annot['L4']).squeeze()\n",
    "atac_l4_to_atac_l3 = pd.Series(atac_l4_to_atac_l3.to_dict())\n",
    "atac_l4_to_inte_l2 = atac_l4_to_atac_l3.map(atac_l3_to_inte_l2)"
   ]
  },
  {
   "cell_type": "code",
   "execution_count": null,
   "id": "0ddaf4d9",
   "metadata": {
    "ExecuteTime": {
     "end_time": "2022-07-06T21:28:40.042113Z",
     "start_time": "2022-07-06T21:28:40.037124Z"
    }
   },
   "outputs": [],
   "source": [
    "atac_l4_to_inte_l2"
   ]
  },
  {
   "cell_type": "markdown",
   "id": "3061feba",
   "metadata": {},
   "source": [
    "### Get mC L4 to Inte L2"
   ]
  },
  {
   "cell_type": "code",
   "execution_count": null,
   "id": "3ac5d64d",
   "metadata": {
    "ExecuteTime": {
     "end_time": "2022-07-06T21:28:40.048969Z",
     "start_time": "2022-07-06T21:28:40.043908Z"
    }
   },
   "outputs": [],
   "source": [
    "l3_group_names = []\n",
    "for l2_group, row_group in col_groups.items():\n",
    "    l3_group_name = l2_group + '_' + row_group.astype(str)\n",
    "    l3_group_names.append(l3_group_name)\n",
    "mc_l3_to_inte_l2 = pd.concat(l3_group_names)"
   ]
  },
  {
   "cell_type": "code",
   "execution_count": null,
   "id": "d0905a89",
   "metadata": {
    "ExecuteTime": {
     "end_time": "2022-07-06T21:28:40.201708Z",
     "start_time": "2022-07-06T21:28:40.050784Z"
    }
   },
   "outputs": [],
   "source": [
    "mc_l4_to_mc_l3 = pd.DataFrame(mc_annot['L3'], index=mc_annot['L4']).squeeze()\n",
    "mc_l4_to_mc_l3 = pd.Series(mc_l4_to_mc_l3.to_dict())\n",
    "mc_l4_to_inte_l2 = mc_l4_to_mc_l3.map(mc_l3_to_inte_l2)"
   ]
  },
  {
   "cell_type": "code",
   "execution_count": null,
   "id": "785662cb",
   "metadata": {
    "ExecuteTime": {
     "end_time": "2022-07-06T21:28:40.207929Z",
     "start_time": "2022-07-06T21:28:40.203660Z"
    }
   },
   "outputs": [],
   "source": [
    "mc_l4_to_inte_l2"
   ]
  },
  {
   "cell_type": "markdown",
   "id": "78e3d67d",
   "metadata": {},
   "source": [
    "## Get Inte L4 Confusion"
   ]
  },
  {
   "cell_type": "code",
   "execution_count": null,
   "id": "bed88e10",
   "metadata": {
    "ExecuteTime": {
     "end_time": "2022-07-06T21:28:42.454321Z",
     "start_time": "2022-07-06T21:28:40.209767Z"
    }
   },
   "outputs": [],
   "source": [
    "l4_confusion_matrix_dict = {}\n",
    "l4_row_groups = {}\n",
    "l4_col_groups = {}\n",
    "\n",
    "for path in pathlib.Path(f'../{deep_level}/Neuron').glob(\n",
    "        f'InteGroup*/{deep_category_key}.overlap_score.hdf'):\n",
    "    group = path.parent.name\n",
    "\n",
    "    # integration group\n",
    "    # from leiden clustering on confusion matrix\n",
    "    # may be manually merged in 07.ipynb\n",
    "    row_group = get_inte_groups(path.parent / 'atac_integration_group.csv.gz',\n",
    "                                annot=atac_annot,\n",
    "                                category=deep_category_key)\n",
    "    col_group = get_inte_groups(path.parent / 'mc_integration_group.csv.gz',\n",
    "                                annot=mc_annot,\n",
    "                                category=deep_category_key)\n",
    "    l4_row_groups[group] = row_group\n",
    "    l4_col_groups[group] = col_group\n",
    "\n",
    "    # confusion matrix\n",
    "    df = pd.read_hdf(path)\n",
    "    diag_score = calculate_diagonal_score(df,\n",
    "                                          col_group=col_group,\n",
    "                                          row_group=row_group)\n",
    "    print(f'{group} diag score: {diag_score:.2f}')\n",
    "\n",
    "    df.index.name = f'atac.{category_key}'\n",
    "    df.columns.name = f'mC.{category_key}'\n",
    "    # reorder row and col based on inte groups\n",
    "    df = df.loc[row_group.sort_values().index,\n",
    "                col_group.sort_values().index].copy()\n",
    "    l4_confusion_matrix_dict[group] = df"
   ]
  },
  {
   "cell_type": "markdown",
   "id": "a8b99660",
   "metadata": {},
   "source": [
    "## Create L4 Patch on L2 Confusion Matrix"
   ]
  },
  {
   "cell_type": "code",
   "execution_count": null,
   "id": "62910b1e",
   "metadata": {
    "ExecuteTime": {
     "end_time": "2022-07-06T21:28:42.563804Z",
     "start_time": "2022-07-06T21:28:42.457405Z"
    }
   },
   "outputs": [],
   "source": [
    "l2_with_l4_patch = all_confusion_l4.copy()"
   ]
  },
  {
   "cell_type": "code",
   "execution_count": null,
   "id": "c64f7125",
   "metadata": {
    "ExecuteTime": {
     "end_time": "2022-07-06T21:28:42.677719Z",
     "start_time": "2022-07-06T21:28:42.565941Z"
    }
   },
   "outputs": [],
   "source": [
    "for df in l4_confusion_matrix_dict.values():\n",
    "    l2_with_l4_patch.loc[df.index, df.columns] = df"
   ]
  },
  {
   "cell_type": "code",
   "execution_count": null,
   "id": "51f02404",
   "metadata": {
    "ExecuteTime": {
     "end_time": "2022-07-06T21:28:43.032959Z",
     "start_time": "2022-07-06T21:28:42.679918Z"
    }
   },
   "outputs": [],
   "source": [
    "l2_with_l4_patch.to_hdf('L4_confusion_matrx.L4_clusters.hdf', key='data')"
   ]
  },
  {
   "cell_type": "markdown",
   "id": "301e6f66",
   "metadata": {},
   "source": [
    "## Deal with Cluster Match"
   ]
  },
  {
   "cell_type": "code",
   "execution_count": null,
   "id": "cb0537ae",
   "metadata": {
    "ExecuteTime": {
     "end_time": "2022-07-06T21:28:43.053446Z",
     "start_time": "2022-07-06T21:28:43.035441Z"
    }
   },
   "outputs": [],
   "source": [
    "l4_group_names = []\n",
    "for l2_group, row_group in l4_row_groups.items():\n",
    "    l4_group_name = l2_group + '_' + row_group.astype(str)\n",
    "    l4_group_names.append(l4_group_name)\n",
    "atac_l4_to_inte_l4 = pd.concat(l4_group_names)"
   ]
  },
  {
   "cell_type": "code",
   "execution_count": null,
   "id": "242e8950",
   "metadata": {
    "ExecuteTime": {
     "end_time": "2022-07-06T21:28:43.071282Z",
     "start_time": "2022-07-06T21:28:43.055377Z"
    }
   },
   "outputs": [],
   "source": [
    "l4_group_names = []\n",
    "for l2_group, row_group in l4_col_groups.items():\n",
    "    l4_group_name = l2_group + '_' + row_group.astype(str)\n",
    "    l4_group_names.append(l4_group_name)\n",
    "mc_l4_to_inte_l4 = pd.concat(l4_group_names)"
   ]
  },
  {
   "cell_type": "markdown",
   "id": "8c21f2ef",
   "metadata": {},
   "source": [
    "## Final Cluster Map"
   ]
  },
  {
   "cell_type": "code",
   "execution_count": null,
   "id": "8a17576b",
   "metadata": {
    "ExecuteTime": {
     "end_time": "2022-07-06T21:28:43.096520Z",
     "start_time": "2022-07-06T21:28:43.073188Z"
    }
   },
   "outputs": [],
   "source": [
    "atac_l4_to_final_group = {}\n",
    "for atac_cluster, l2_inte_group in atac_l4_to_inte_l2.items():\n",
    "    if atac_cluster in atac_l4_to_inte_l4.index:\n",
    "        l4_inte_group = atac_l4_to_inte_l4[atac_cluster]\n",
    "        assert l4_inte_group.startswith(l2_inte_group) is True\n",
    "        final_group = l4_inte_group\n",
    "    else:\n",
    "        final_group = l2_inte_group\n",
    "    atac_l4_to_final_group[atac_cluster] = final_group\n",
    "atac_l4_to_final_group = pd.Series(atac_l4_to_final_group)"
   ]
  },
  {
   "cell_type": "code",
   "execution_count": null,
   "id": "a7923bf9",
   "metadata": {
    "ExecuteTime": {
     "end_time": "2022-07-06T21:28:43.106579Z",
     "start_time": "2022-07-06T21:28:43.098442Z"
    }
   },
   "outputs": [],
   "source": [
    "atac_l4_to_final_group.to_csv('atac_l4_to_integration_group.csv')"
   ]
  },
  {
   "cell_type": "code",
   "execution_count": null,
   "id": "1fdb3ea5",
   "metadata": {
    "ExecuteTime": {
     "end_time": "2022-07-06T21:28:43.121753Z",
     "start_time": "2022-07-06T21:28:43.108735Z"
    }
   },
   "outputs": [],
   "source": [
    "mc_l4_to_final_group = {}\n",
    "for mc_cluster, l2_inte_group in mc_l4_to_inte_l2.items():\n",
    "    if mc_cluster in mc_l4_to_inte_l4.index:\n",
    "        l4_inte_group = mc_l4_to_inte_l4[mc_cluster]\n",
    "        assert l4_inte_group.startswith(l2_inte_group) is True\n",
    "        final_group = l4_inte_group\n",
    "    else:\n",
    "        final_group = l2_inte_group\n",
    "    mc_l4_to_final_group[mc_cluster] = final_group\n",
    "mc_l4_to_final_group = pd.Series(mc_l4_to_final_group)"
   ]
  },
  {
   "cell_type": "code",
   "execution_count": null,
   "id": "75cd927c",
   "metadata": {
    "ExecuteTime": {
     "end_time": "2022-07-06T21:28:43.128438Z",
     "start_time": "2022-07-06T21:28:43.123644Z"
    }
   },
   "outputs": [],
   "source": [
    "mc_l4_to_final_group.to_csv('mc_l4_to_integration_group.csv')"
   ]
  },
  {
   "cell_type": "code",
   "execution_count": null,
   "id": "52092b2d",
   "metadata": {
    "ExecuteTime": {
     "end_time": "2022-07-06T21:28:43.134865Z",
     "start_time": "2022-07-06T21:28:43.130196Z"
    }
   },
   "outputs": [],
   "source": [
    "atac_l4_to_final_group"
   ]
  },
  {
   "cell_type": "code",
   "execution_count": null,
   "id": "310688fa",
   "metadata": {
    "ExecuteTime": {
     "end_time": "2022-07-06T21:28:43.140541Z",
     "start_time": "2022-07-06T21:28:43.136747Z"
    }
   },
   "outputs": [],
   "source": [
    "mc_l4_to_final_group"
   ]
  },
  {
   "cell_type": "code",
   "execution_count": null,
   "id": "c3a77e01",
   "metadata": {},
   "outputs": [],
   "source": []
  },
  {
   "cell_type": "code",
   "execution_count": null,
   "id": "667b76ea",
   "metadata": {},
   "outputs": [],
   "source": []
  }
 ],
 "metadata": {
  "hide_input": false,
  "kernelspec": {
   "display_name": "Python 3 (ipykernel)",
   "language": "python",
   "name": "python3"
  },
  "language_info": {
   "codemirror_mode": {
    "name": "ipython",
    "version": 3
   },
   "file_extension": ".py",
   "mimetype": "text/x-python",
   "name": "python",
   "nbconvert_exporter": "python",
   "pygments_lexer": "ipython3",
   "version": "3.8.13"
  },
  "toc": {
   "base_numbering": 1,
   "nav_menu": {},
   "number_sections": true,
   "sideBar": true,
   "skip_h1_title": true,
   "title_cell": "Table of Contents",
   "title_sidebar": "Contents",
   "toc_cell": false,
   "toc_position": {},
   "toc_section_display": true,
   "toc_window_display": true
  }
 },
 "nbformat": 4,
 "nbformat_minor": 5
}
